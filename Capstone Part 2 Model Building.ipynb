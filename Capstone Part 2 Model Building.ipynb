{
 "cells": [
  {
   "cell_type": "markdown",
   "metadata": {},
   "source": [
    "### Online Retail Data Set"
   ]
  },
  {
   "cell_type": "markdown",
   "metadata": {},
   "source": [
    "This is a transnational data set which contains all the transactions occurring between 01/12/2010 and 09/12/2011 for a UK-based and registered non-store online retail.The company mainly sells unique all-occasion gifts. Many customers of the company are wholesalers."
   ]
  },
  {
   "cell_type": "markdown",
   "metadata": {},
   "source": [
    "### Attribute Information:"
   ]
  },
  {
   "cell_type": "markdown",
   "metadata": {},
   "source": [
    "InvoiceNo: Invoice number. Nominal, a 6-digit integral number uniquely assigned to each transaction. If this code starts with letter 'c', it indicates a cancellation.\n",
    "\n",
    "StockCode: Product (item) code. Nominal, a 5-digit integral number uniquely assigned to each distinct product.\n",
    "\n",
    "Description: Product (item) name. Nominal.\n",
    "\n",
    "Quantity: The quantities of each product (item) per transaction. Numeric.\n",
    "\n",
    "InvoiceDate: Invice Date and time. Numeric, the day and time when each transaction was generated.\n",
    "\n",
    "UnitPrice: Unit price. Numeric, Product price per unit in sterling.\n",
    "\n",
    "CustomerID: Customer number. Nominal, a 5-digit integral number uniquely assigned to each customer.\n",
    "\n",
    "Country: Country name. Nominal, the name of the country where each customer resides. "
   ]
  },
  {
   "cell_type": "markdown",
   "metadata": {},
   "source": [
    "Accurately predicted monthly revenue is needed to improve manager and executive decision making"
   ]
  },
  {
   "cell_type": "markdown",
   "metadata": {},
   "source": [
    "### Import Libraries"
   ]
  },
  {
   "cell_type": "code",
   "execution_count": 1,
   "metadata": {},
   "outputs": [],
   "source": [
    "import numpy as np\n",
    "import pandas as pd\n",
    "import matplotlib.pyplot as plt\n",
    "import seaborn as sns\n",
    "import sklearn\n",
    "import datetime\n",
    "\n",
    "import xgboost as xgb\n",
    "from xgboost import XGBClassifier, XGBRegressor\n",
    "from xgboost import to_graphviz, plot_importance\n",
    "\n",
    "%matplotlib inline\n",
    "sns.set_style('dark')\n",
    "sns.set(font_scale=1.2)\n",
    "\n",
    "\n",
    "from sklearn.model_selection import cross_val_score, train_test_split, GridSearchCV, RandomizedSearchCV\n",
    "from sklearn.preprocessing import LabelEncoder, StandardScaler, MinMaxScaler, OneHotEncoder\n",
    "from sklearn.pipeline import Pipeline\n",
    "from sklearn.metrics import confusion_matrix, classification_report, mean_absolute_error, mean_squared_error,r2_score\n",
    "from sklearn.metrics import plot_confusion_matrix, plot_precision_recall_curve, plot_roc_curve, accuracy_score\n",
    "from sklearn.metrics import auc, f1_score, precision_score, recall_score, roc_auc_score\n",
    "\n",
    "from sklearn.ensemble import ExtraTreesRegressor\n",
    "\n",
    "import warnings\n",
    "warnings.filterwarnings('ignore')\n",
    "\n",
    "import pickle\n",
    "from pickle import dump, load\n",
    "\n",
    "np.random.seed(0)\n",
    "\n",
    "#from pycaret.classification import *\n",
    "#from pycaret.clustering import *\n",
    "from pycaret.regression import *\n",
    "\n",
    "pd.set_option('display.max_columns',100)\n",
    "#pd.set_option('display.max_rows',100)\n",
    "pd.set_option('display.width', 1000)"
   ]
  },
  {
   "cell_type": "markdown",
   "metadata": {},
   "source": [
    "### Data Preprocessing"
   ]
  },
  {
   "cell_type": "code",
   "execution_count": 2,
   "metadata": {},
   "outputs": [],
   "source": [
    "df = pd.read_csv(\"retailnew.csv\")"
   ]
  },
  {
   "cell_type": "code",
   "execution_count": 3,
   "metadata": {},
   "outputs": [
    {
     "data": {
      "text/html": [
       "<div>\n",
       "<style scoped>\n",
       "    .dataframe tbody tr th:only-of-type {\n",
       "        vertical-align: middle;\n",
       "    }\n",
       "\n",
       "    .dataframe tbody tr th {\n",
       "        vertical-align: top;\n",
       "    }\n",
       "\n",
       "    .dataframe thead th {\n",
       "        text-align: right;\n",
       "    }\n",
       "</style>\n",
       "<table border=\"1\" class=\"dataframe\">\n",
       "  <thead>\n",
       "    <tr style=\"text-align: right;\">\n",
       "      <th></th>\n",
       "      <th>DaySum</th>\n",
       "      <th>MonthSum</th>\n",
       "      <th>QuantitySum</th>\n",
       "      <th>TotalPriceSum</th>\n",
       "      <th>CustomerCount</th>\n",
       "      <th>DayAvg</th>\n",
       "      <th>MonthAvg</th>\n",
       "      <th>QuantityAvg</th>\n",
       "    </tr>\n",
       "  </thead>\n",
       "  <tbody>\n",
       "    <tr>\n",
       "      <th>0</th>\n",
       "      <td>1059</td>\n",
       "      <td>361</td>\n",
       "      <td>1037</td>\n",
       "      <td>759.89</td>\n",
       "      <td>73</td>\n",
       "      <td>14.506849</td>\n",
       "      <td>4.945205</td>\n",
       "      <td>14.205479</td>\n",
       "    </tr>\n",
       "    <tr>\n",
       "      <th>1</th>\n",
       "      <td>402</td>\n",
       "      <td>175</td>\n",
       "      <td>495</td>\n",
       "      <td>119.09</td>\n",
       "      <td>24</td>\n",
       "      <td>16.750000</td>\n",
       "      <td>7.291667</td>\n",
       "      <td>20.625000</td>\n",
       "    </tr>\n",
       "    <tr>\n",
       "      <th>2</th>\n",
       "      <td>462</td>\n",
       "      <td>176</td>\n",
       "      <td>193</td>\n",
       "      <td>40.53</td>\n",
       "      <td>30</td>\n",
       "      <td>15.400000</td>\n",
       "      <td>5.866667</td>\n",
       "      <td>6.433333</td>\n",
       "    </tr>\n",
       "    <tr>\n",
       "      <th>3</th>\n",
       "      <td>61</td>\n",
       "      <td>17</td>\n",
       "      <td>-13</td>\n",
       "      <td>3.25</td>\n",
       "      <td>4</td>\n",
       "      <td>15.250000</td>\n",
       "      <td>4.250000</td>\n",
       "      <td>-3.250000</td>\n",
       "    </tr>\n",
       "    <tr>\n",
       "      <th>4</th>\n",
       "      <td>4</td>\n",
       "      <td>8</td>\n",
       "      <td>-38</td>\n",
       "      <td>0.00</td>\n",
       "      <td>1</td>\n",
       "      <td>4.000000</td>\n",
       "      <td>8.000000</td>\n",
       "      <td>-38.000000</td>\n",
       "    </tr>\n",
       "    <tr>\n",
       "      <th>...</th>\n",
       "      <td>...</td>\n",
       "      <td>...</td>\n",
       "      <td>...</td>\n",
       "      <td>...</td>\n",
       "      <td>...</td>\n",
       "      <td>...</td>\n",
       "      <td>...</td>\n",
       "      <td>...</td>\n",
       "    </tr>\n",
       "    <tr>\n",
       "      <th>4065</th>\n",
       "      <td>165</td>\n",
       "      <td>48</td>\n",
       "      <td>20</td>\n",
       "      <td>167.05</td>\n",
       "      <td>10</td>\n",
       "      <td>16.500000</td>\n",
       "      <td>4.800000</td>\n",
       "      <td>2.000000</td>\n",
       "    </tr>\n",
       "    <tr>\n",
       "      <th>4066</th>\n",
       "      <td>144</td>\n",
       "      <td>42</td>\n",
       "      <td>37</td>\n",
       "      <td>175.53</td>\n",
       "      <td>8</td>\n",
       "      <td>18.000000</td>\n",
       "      <td>5.250000</td>\n",
       "      <td>4.625000</td>\n",
       "    </tr>\n",
       "    <tr>\n",
       "      <th>4067</th>\n",
       "      <td>51</td>\n",
       "      <td>23</td>\n",
       "      <td>3</td>\n",
       "      <td>100.70</td>\n",
       "      <td>3</td>\n",
       "      <td>17.000000</td>\n",
       "      <td>7.666667</td>\n",
       "      <td>1.000000</td>\n",
       "    </tr>\n",
       "    <tr>\n",
       "      <th>4068</th>\n",
       "      <td>82</td>\n",
       "      <td>30</td>\n",
       "      <td>4</td>\n",
       "      <td>167.56</td>\n",
       "      <td>4</td>\n",
       "      <td>20.500000</td>\n",
       "      <td>7.500000</td>\n",
       "      <td>1.000000</td>\n",
       "    </tr>\n",
       "    <tr>\n",
       "      <th>4069</th>\n",
       "      <td>21</td>\n",
       "      <td>12</td>\n",
       "      <td>1</td>\n",
       "      <td>2.55</td>\n",
       "      <td>1</td>\n",
       "      <td>21.000000</td>\n",
       "      <td>12.000000</td>\n",
       "      <td>1.000000</td>\n",
       "    </tr>\n",
       "  </tbody>\n",
       "</table>\n",
       "<p>4070 rows × 8 columns</p>\n",
       "</div>"
      ],
      "text/plain": [
       "      DaySum  MonthSum  QuantitySum  TotalPriceSum  CustomerCount     DayAvg   MonthAvg  QuantityAvg\n",
       "0       1059       361         1037         759.89             73  14.506849   4.945205    14.205479\n",
       "1        402       175          495         119.09             24  16.750000   7.291667    20.625000\n",
       "2        462       176          193          40.53             30  15.400000   5.866667     6.433333\n",
       "3         61        17          -13           3.25              4  15.250000   4.250000    -3.250000\n",
       "4          4         8          -38           0.00              1   4.000000   8.000000   -38.000000\n",
       "...      ...       ...          ...            ...            ...        ...        ...          ...\n",
       "4065     165        48           20         167.05             10  16.500000   4.800000     2.000000\n",
       "4066     144        42           37         175.53              8  18.000000   5.250000     4.625000\n",
       "4067      51        23            3         100.70              3  17.000000   7.666667     1.000000\n",
       "4068      82        30            4         167.56              4  20.500000   7.500000     1.000000\n",
       "4069      21        12            1           2.55              1  21.000000  12.000000     1.000000\n",
       "\n",
       "[4070 rows x 8 columns]"
      ]
     },
     "execution_count": 3,
     "metadata": {},
     "output_type": "execute_result"
    }
   ],
   "source": [
    "df"
   ]
  },
  {
   "cell_type": "markdown",
   "metadata": {},
   "source": [
    "### MonthSum is target variable"
   ]
  },
  {
   "cell_type": "code",
   "execution_count": 4,
   "metadata": {},
   "outputs": [
    {
     "data": {
      "text/plain": [
       "Index(['DaySum', 'MonthSum', 'QuantitySum', 'TotalPriceSum', 'CustomerCount', 'DayAvg', 'MonthAvg', 'QuantityAvg'], dtype='object')"
      ]
     },
     "execution_count": 4,
     "metadata": {},
     "output_type": "execute_result"
    }
   ],
   "source": [
    "df.columns"
   ]
  },
  {
   "cell_type": "code",
   "execution_count": 5,
   "metadata": {},
   "outputs": [],
   "source": [
    "df = df[['DaySum','QuantitySum', 'TotalPriceSum', 'CustomerCount', 'DayAvg', 'MonthAvg', 'QuantityAvg','MonthSum']]"
   ]
  },
  {
   "cell_type": "code",
   "execution_count": 6,
   "metadata": {},
   "outputs": [
    {
     "data": {
      "text/html": [
       "<div>\n",
       "<style scoped>\n",
       "    .dataframe tbody tr th:only-of-type {\n",
       "        vertical-align: middle;\n",
       "    }\n",
       "\n",
       "    .dataframe tbody tr th {\n",
       "        vertical-align: top;\n",
       "    }\n",
       "\n",
       "    .dataframe thead th {\n",
       "        text-align: right;\n",
       "    }\n",
       "</style>\n",
       "<table border=\"1\" class=\"dataframe\">\n",
       "  <thead>\n",
       "    <tr style=\"text-align: right;\">\n",
       "      <th></th>\n",
       "      <th>DaySum</th>\n",
       "      <th>QuantitySum</th>\n",
       "      <th>TotalPriceSum</th>\n",
       "      <th>CustomerCount</th>\n",
       "      <th>DayAvg</th>\n",
       "      <th>MonthAvg</th>\n",
       "      <th>QuantityAvg</th>\n",
       "      <th>MonthSum</th>\n",
       "    </tr>\n",
       "  </thead>\n",
       "  <tbody>\n",
       "    <tr>\n",
       "      <th>0</th>\n",
       "      <td>1059</td>\n",
       "      <td>1037</td>\n",
       "      <td>759.89</td>\n",
       "      <td>73</td>\n",
       "      <td>14.506849</td>\n",
       "      <td>4.945205</td>\n",
       "      <td>14.205479</td>\n",
       "      <td>361</td>\n",
       "    </tr>\n",
       "    <tr>\n",
       "      <th>1</th>\n",
       "      <td>402</td>\n",
       "      <td>495</td>\n",
       "      <td>119.09</td>\n",
       "      <td>24</td>\n",
       "      <td>16.750000</td>\n",
       "      <td>7.291667</td>\n",
       "      <td>20.625000</td>\n",
       "      <td>175</td>\n",
       "    </tr>\n",
       "    <tr>\n",
       "      <th>2</th>\n",
       "      <td>462</td>\n",
       "      <td>193</td>\n",
       "      <td>40.53</td>\n",
       "      <td>30</td>\n",
       "      <td>15.400000</td>\n",
       "      <td>5.866667</td>\n",
       "      <td>6.433333</td>\n",
       "      <td>176</td>\n",
       "    </tr>\n",
       "    <tr>\n",
       "      <th>3</th>\n",
       "      <td>61</td>\n",
       "      <td>-13</td>\n",
       "      <td>3.25</td>\n",
       "      <td>4</td>\n",
       "      <td>15.250000</td>\n",
       "      <td>4.250000</td>\n",
       "      <td>-3.250000</td>\n",
       "      <td>17</td>\n",
       "    </tr>\n",
       "    <tr>\n",
       "      <th>4</th>\n",
       "      <td>4</td>\n",
       "      <td>-38</td>\n",
       "      <td>0.00</td>\n",
       "      <td>1</td>\n",
       "      <td>4.000000</td>\n",
       "      <td>8.000000</td>\n",
       "      <td>-38.000000</td>\n",
       "      <td>8</td>\n",
       "    </tr>\n",
       "    <tr>\n",
       "      <th>...</th>\n",
       "      <td>...</td>\n",
       "      <td>...</td>\n",
       "      <td>...</td>\n",
       "      <td>...</td>\n",
       "      <td>...</td>\n",
       "      <td>...</td>\n",
       "      <td>...</td>\n",
       "      <td>...</td>\n",
       "    </tr>\n",
       "    <tr>\n",
       "      <th>4065</th>\n",
       "      <td>165</td>\n",
       "      <td>20</td>\n",
       "      <td>167.05</td>\n",
       "      <td>10</td>\n",
       "      <td>16.500000</td>\n",
       "      <td>4.800000</td>\n",
       "      <td>2.000000</td>\n",
       "      <td>48</td>\n",
       "    </tr>\n",
       "    <tr>\n",
       "      <th>4066</th>\n",
       "      <td>144</td>\n",
       "      <td>37</td>\n",
       "      <td>175.53</td>\n",
       "      <td>8</td>\n",
       "      <td>18.000000</td>\n",
       "      <td>5.250000</td>\n",
       "      <td>4.625000</td>\n",
       "      <td>42</td>\n",
       "    </tr>\n",
       "    <tr>\n",
       "      <th>4067</th>\n",
       "      <td>51</td>\n",
       "      <td>3</td>\n",
       "      <td>100.70</td>\n",
       "      <td>3</td>\n",
       "      <td>17.000000</td>\n",
       "      <td>7.666667</td>\n",
       "      <td>1.000000</td>\n",
       "      <td>23</td>\n",
       "    </tr>\n",
       "    <tr>\n",
       "      <th>4068</th>\n",
       "      <td>82</td>\n",
       "      <td>4</td>\n",
       "      <td>167.56</td>\n",
       "      <td>4</td>\n",
       "      <td>20.500000</td>\n",
       "      <td>7.500000</td>\n",
       "      <td>1.000000</td>\n",
       "      <td>30</td>\n",
       "    </tr>\n",
       "    <tr>\n",
       "      <th>4069</th>\n",
       "      <td>21</td>\n",
       "      <td>1</td>\n",
       "      <td>2.55</td>\n",
       "      <td>1</td>\n",
       "      <td>21.000000</td>\n",
       "      <td>12.000000</td>\n",
       "      <td>1.000000</td>\n",
       "      <td>12</td>\n",
       "    </tr>\n",
       "  </tbody>\n",
       "</table>\n",
       "<p>4070 rows × 8 columns</p>\n",
       "</div>"
      ],
      "text/plain": [
       "      DaySum  QuantitySum  TotalPriceSum  CustomerCount     DayAvg   MonthAvg  QuantityAvg  MonthSum\n",
       "0       1059         1037         759.89             73  14.506849   4.945205    14.205479       361\n",
       "1        402          495         119.09             24  16.750000   7.291667    20.625000       175\n",
       "2        462          193          40.53             30  15.400000   5.866667     6.433333       176\n",
       "3         61          -13           3.25              4  15.250000   4.250000    -3.250000        17\n",
       "4          4          -38           0.00              1   4.000000   8.000000   -38.000000         8\n",
       "...      ...          ...            ...            ...        ...        ...          ...       ...\n",
       "4065     165           20         167.05             10  16.500000   4.800000     2.000000        48\n",
       "4066     144           37         175.53              8  18.000000   5.250000     4.625000        42\n",
       "4067      51            3         100.70              3  17.000000   7.666667     1.000000        23\n",
       "4068      82            4         167.56              4  20.500000   7.500000     1.000000        30\n",
       "4069      21            1           2.55              1  21.000000  12.000000     1.000000        12\n",
       "\n",
       "[4070 rows x 8 columns]"
      ]
     },
     "execution_count": 6,
     "metadata": {},
     "output_type": "execute_result"
    }
   ],
   "source": [
    "df"
   ]
  },
  {
   "cell_type": "code",
   "execution_count": 7,
   "metadata": {},
   "outputs": [
    {
     "name": "stdout",
     "output_type": "stream",
     "text": [
      "<class 'pandas.core.frame.DataFrame'>\n",
      "RangeIndex: 4070 entries, 0 to 4069\n",
      "Data columns (total 8 columns):\n",
      " #   Column         Non-Null Count  Dtype  \n",
      "---  ------         --------------  -----  \n",
      " 0   DaySum         4070 non-null   int64  \n",
      " 1   QuantitySum    4070 non-null   int64  \n",
      " 2   TotalPriceSum  4070 non-null   float64\n",
      " 3   CustomerCount  4070 non-null   int64  \n",
      " 4   DayAvg         4070 non-null   float64\n",
      " 5   MonthAvg       4070 non-null   float64\n",
      " 6   QuantityAvg    4070 non-null   float64\n",
      " 7   MonthSum       4070 non-null   int64  \n",
      "dtypes: float64(4), int64(4)\n",
      "memory usage: 254.5 KB\n"
     ]
    }
   ],
   "source": [
    "df.info()"
   ]
  },
  {
   "cell_type": "code",
   "execution_count": 8,
   "metadata": {},
   "outputs": [
    {
     "data": {
      "text/html": [
       "<div>\n",
       "<style scoped>\n",
       "    .dataframe tbody tr th:only-of-type {\n",
       "        vertical-align: middle;\n",
       "    }\n",
       "\n",
       "    .dataframe tbody tr th {\n",
       "        vertical-align: top;\n",
       "    }\n",
       "\n",
       "    .dataframe thead th {\n",
       "        text-align: right;\n",
       "    }\n",
       "</style>\n",
       "<table border=\"1\" class=\"dataframe\">\n",
       "  <thead>\n",
       "    <tr style=\"text-align: right;\">\n",
       "      <th></th>\n",
       "      <th>DaySum</th>\n",
       "      <th>QuantitySum</th>\n",
       "      <th>TotalPriceSum</th>\n",
       "      <th>CustomerCount</th>\n",
       "      <th>DayAvg</th>\n",
       "      <th>MonthAvg</th>\n",
       "      <th>QuantityAvg</th>\n",
       "      <th>MonthSum</th>\n",
       "    </tr>\n",
       "  </thead>\n",
       "  <tbody>\n",
       "    <tr>\n",
       "      <th>count</th>\n",
       "      <td>4070.000000</td>\n",
       "      <td>4070.000000</td>\n",
       "      <td>4070.000000</td>\n",
       "      <td>4070.000000</td>\n",
       "      <td>4070.000000</td>\n",
       "      <td>4070.000000</td>\n",
       "      <td>4070.000000</td>\n",
       "      <td>4070.000000</td>\n",
       "    </tr>\n",
       "    <tr>\n",
       "      <th>mean</th>\n",
       "      <td>2084.604914</td>\n",
       "      <td>1271.855037</td>\n",
       "      <td>2395.024062</td>\n",
       "      <td>133.147174</td>\n",
       "      <td>15.542543</td>\n",
       "      <td>6.775908</td>\n",
       "      <td>1.054012</td>\n",
       "      <td>921.355528</td>\n",
       "    </tr>\n",
       "    <tr>\n",
       "      <th>std</th>\n",
       "      <td>3136.878707</td>\n",
       "      <td>3052.458716</td>\n",
       "      <td>7931.603222</td>\n",
       "      <td>199.903331</td>\n",
       "      <td>3.326412</td>\n",
       "      <td>1.551180</td>\n",
       "      <td>123.210129</td>\n",
       "      <td>1381.391142</td>\n",
       "    </tr>\n",
       "    <tr>\n",
       "      <th>min</th>\n",
       "      <td>1.000000</td>\n",
       "      <td>-14418.000000</td>\n",
       "      <td>-221520.500000</td>\n",
       "      <td>1.000000</td>\n",
       "      <td>1.000000</td>\n",
       "      <td>1.000000</td>\n",
       "      <td>-5368.000000</td>\n",
       "      <td>1.000000</td>\n",
       "    </tr>\n",
       "    <tr>\n",
       "      <th>25%</th>\n",
       "      <td>214.000000</td>\n",
       "      <td>32.000000</td>\n",
       "      <td>95.197500</td>\n",
       "      <td>14.000000</td>\n",
       "      <td>14.389881</td>\n",
       "      <td>6.092182</td>\n",
       "      <td>2.000000</td>\n",
       "      <td>92.250000</td>\n",
       "    </tr>\n",
       "    <tr>\n",
       "      <th>50%</th>\n",
       "      <td>951.000000</td>\n",
       "      <td>300.500000</td>\n",
       "      <td>612.650000</td>\n",
       "      <td>62.000000</td>\n",
       "      <td>15.500000</td>\n",
       "      <td>6.800000</td>\n",
       "      <td>4.637055</td>\n",
       "      <td>405.000000</td>\n",
       "    </tr>\n",
       "    <tr>\n",
       "      <th>75%</th>\n",
       "      <td>2626.500000</td>\n",
       "      <td>1279.500000</td>\n",
       "      <td>2087.657500</td>\n",
       "      <td>167.000000</td>\n",
       "      <td>16.576232</td>\n",
       "      <td>7.600000</td>\n",
       "      <td>8.976561</td>\n",
       "      <td>1172.750000</td>\n",
       "    </tr>\n",
       "    <tr>\n",
       "      <th>max</th>\n",
       "      <td>34907.000000</td>\n",
       "      <td>56450.000000</td>\n",
       "      <td>206245.480000</td>\n",
       "      <td>2313.000000</td>\n",
       "      <td>31.000000</td>\n",
       "      <td>12.000000</td>\n",
       "      <td>957.750000</td>\n",
       "      <td>15288.000000</td>\n",
       "    </tr>\n",
       "  </tbody>\n",
       "</table>\n",
       "</div>"
      ],
      "text/plain": [
       "             DaySum   QuantitySum  TotalPriceSum  CustomerCount       DayAvg     MonthAvg  QuantityAvg      MonthSum\n",
       "count   4070.000000   4070.000000    4070.000000    4070.000000  4070.000000  4070.000000  4070.000000   4070.000000\n",
       "mean    2084.604914   1271.855037    2395.024062     133.147174    15.542543     6.775908     1.054012    921.355528\n",
       "std     3136.878707   3052.458716    7931.603222     199.903331     3.326412     1.551180   123.210129   1381.391142\n",
       "min        1.000000 -14418.000000 -221520.500000       1.000000     1.000000     1.000000 -5368.000000      1.000000\n",
       "25%      214.000000     32.000000      95.197500      14.000000    14.389881     6.092182     2.000000     92.250000\n",
       "50%      951.000000    300.500000     612.650000      62.000000    15.500000     6.800000     4.637055    405.000000\n",
       "75%     2626.500000   1279.500000    2087.657500     167.000000    16.576232     7.600000     8.976561   1172.750000\n",
       "max    34907.000000  56450.000000  206245.480000    2313.000000    31.000000    12.000000   957.750000  15288.000000"
      ]
     },
     "execution_count": 8,
     "metadata": {},
     "output_type": "execute_result"
    }
   ],
   "source": [
    "df.describe()"
   ]
  },
  {
   "cell_type": "code",
   "execution_count": 9,
   "metadata": {},
   "outputs": [
    {
     "data": {
      "text/plain": [
       "(4070, 8)"
      ]
     },
     "execution_count": 9,
     "metadata": {},
     "output_type": "execute_result"
    }
   ],
   "source": [
    "df.shape"
   ]
  },
  {
   "cell_type": "markdown",
   "metadata": {},
   "source": [
    "### Train Test Split"
   ]
  },
  {
   "cell_type": "code",
   "execution_count": 10,
   "metadata": {},
   "outputs": [],
   "source": [
    "X = df.iloc[:,0:7]\n",
    "y = df.iloc[:,7]"
   ]
  },
  {
   "cell_type": "code",
   "execution_count": 11,
   "metadata": {},
   "outputs": [
    {
     "data": {
      "text/plain": [
       "(array([[1.05900000e+03, 1.03700000e+03, 7.59890000e+02, ...,\n",
       "         1.45068493e+01, 4.94520548e+00, 1.42054795e+01],\n",
       "        [4.02000000e+02, 4.95000000e+02, 1.19090000e+02, ...,\n",
       "         1.67500000e+01, 7.29166667e+00, 2.06250000e+01],\n",
       "        [4.62000000e+02, 1.93000000e+02, 4.05300000e+01, ...,\n",
       "         1.54000000e+01, 5.86666667e+00, 6.43333333e+00],\n",
       "        ...,\n",
       "        [5.10000000e+01, 3.00000000e+00, 1.00700000e+02, ...,\n",
       "         1.70000000e+01, 7.66666667e+00, 1.00000000e+00],\n",
       "        [8.20000000e+01, 4.00000000e+00, 1.67560000e+02, ...,\n",
       "         2.05000000e+01, 7.50000000e+00, 1.00000000e+00],\n",
       "        [2.10000000e+01, 1.00000000e+00, 2.55000000e+00, ...,\n",
       "         2.10000000e+01, 1.20000000e+01, 1.00000000e+00]]),\n",
       " array([361, 175, 176, ...,  23,  30,  12], dtype=int64))"
      ]
     },
     "execution_count": 11,
     "metadata": {},
     "output_type": "execute_result"
    }
   ],
   "source": [
    "X.values, y.values"
   ]
  },
  {
   "cell_type": "code",
   "execution_count": 12,
   "metadata": {},
   "outputs": [],
   "source": [
    "X_train, X_test, y_train, y_test = train_test_split(X, y, test_size=0.2, random_state=0)"
   ]
  },
  {
   "cell_type": "code",
   "execution_count": 13,
   "metadata": {},
   "outputs": [
    {
     "data": {
      "text/plain": [
       "((3256, 7), (814, 7), (3256,), (814,))"
      ]
     },
     "execution_count": 13,
     "metadata": {},
     "output_type": "execute_result"
    }
   ],
   "source": [
    "X_train.shape, X_test.shape, y_train.shape, y_test.shape"
   ]
  },
  {
   "cell_type": "markdown",
   "metadata": {},
   "source": [
    "### Feature Scaling"
   ]
  },
  {
   "cell_type": "code",
   "execution_count": 14,
   "metadata": {},
   "outputs": [
    {
     "data": {
      "text/html": [
       "<div>\n",
       "<style scoped>\n",
       "    .dataframe tbody tr th:only-of-type {\n",
       "        vertical-align: middle;\n",
       "    }\n",
       "\n",
       "    .dataframe tbody tr th {\n",
       "        vertical-align: top;\n",
       "    }\n",
       "\n",
       "    .dataframe thead th {\n",
       "        text-align: right;\n",
       "    }\n",
       "</style>\n",
       "<table border=\"1\" class=\"dataframe\">\n",
       "  <thead>\n",
       "    <tr style=\"text-align: right;\">\n",
       "      <th></th>\n",
       "      <th>DaySum</th>\n",
       "      <th>QuantitySum</th>\n",
       "      <th>TotalPriceSum</th>\n",
       "      <th>CustomerCount</th>\n",
       "      <th>DayAvg</th>\n",
       "      <th>MonthAvg</th>\n",
       "      <th>QuantityAvg</th>\n",
       "    </tr>\n",
       "  </thead>\n",
       "  <tbody>\n",
       "    <tr>\n",
       "      <th>1651</th>\n",
       "      <td>3842</td>\n",
       "      <td>8496</td>\n",
       "      <td>7320.51</td>\n",
       "      <td>237</td>\n",
       "      <td>16.210970</td>\n",
       "      <td>7.164557</td>\n",
       "      <td>35.848101</td>\n",
       "    </tr>\n",
       "    <tr>\n",
       "      <th>3803</th>\n",
       "      <td>445</td>\n",
       "      <td>102</td>\n",
       "      <td>77.79</td>\n",
       "      <td>28</td>\n",
       "      <td>15.892857</td>\n",
       "      <td>8.107143</td>\n",
       "      <td>3.642857</td>\n",
       "    </tr>\n",
       "    <tr>\n",
       "      <th>2057</th>\n",
       "      <td>3397</td>\n",
       "      <td>1777</td>\n",
       "      <td>4400.82</td>\n",
       "      <td>211</td>\n",
       "      <td>16.099526</td>\n",
       "      <td>7.208531</td>\n",
       "      <td>8.421801</td>\n",
       "    </tr>\n",
       "    <tr>\n",
       "      <th>263</th>\n",
       "      <td>28</td>\n",
       "      <td>-1</td>\n",
       "      <td>0.00</td>\n",
       "      <td>1</td>\n",
       "      <td>28.000000</td>\n",
       "      <td>1.000000</td>\n",
       "      <td>-1.000000</td>\n",
       "    </tr>\n",
       "    <tr>\n",
       "      <th>1763</th>\n",
       "      <td>1904</td>\n",
       "      <td>1119</td>\n",
       "      <td>1849.23</td>\n",
       "      <td>142</td>\n",
       "      <td>13.408451</td>\n",
       "      <td>4.295775</td>\n",
       "      <td>7.880282</td>\n",
       "    </tr>\n",
       "    <tr>\n",
       "      <th>...</th>\n",
       "      <td>...</td>\n",
       "      <td>...</td>\n",
       "      <td>...</td>\n",
       "      <td>...</td>\n",
       "      <td>...</td>\n",
       "      <td>...</td>\n",
       "      <td>...</td>\n",
       "    </tr>\n",
       "    <tr>\n",
       "      <th>835</th>\n",
       "      <td>1568</td>\n",
       "      <td>1275</td>\n",
       "      <td>1014.14</td>\n",
       "      <td>91</td>\n",
       "      <td>17.230769</td>\n",
       "      <td>7.373626</td>\n",
       "      <td>14.010989</td>\n",
       "    </tr>\n",
       "    <tr>\n",
       "      <th>3264</th>\n",
       "      <td>221</td>\n",
       "      <td>511</td>\n",
       "      <td>154.39</td>\n",
       "      <td>18</td>\n",
       "      <td>12.277778</td>\n",
       "      <td>7.111111</td>\n",
       "      <td>28.388889</td>\n",
       "    </tr>\n",
       "    <tr>\n",
       "      <th>1653</th>\n",
       "      <td>3293</td>\n",
       "      <td>928</td>\n",
       "      <td>2402.64</td>\n",
       "      <td>211</td>\n",
       "      <td>15.606635</td>\n",
       "      <td>6.374408</td>\n",
       "      <td>4.398104</td>\n",
       "    </tr>\n",
       "    <tr>\n",
       "      <th>2607</th>\n",
       "      <td>253</td>\n",
       "      <td>48</td>\n",
       "      <td>120.00</td>\n",
       "      <td>19</td>\n",
       "      <td>13.315789</td>\n",
       "      <td>5.000000</td>\n",
       "      <td>2.526316</td>\n",
       "    </tr>\n",
       "    <tr>\n",
       "      <th>2732</th>\n",
       "      <td>3</td>\n",
       "      <td>-10</td>\n",
       "      <td>0.00</td>\n",
       "      <td>1</td>\n",
       "      <td>3.000000</td>\n",
       "      <td>3.000000</td>\n",
       "      <td>-10.000000</td>\n",
       "    </tr>\n",
       "  </tbody>\n",
       "</table>\n",
       "<p>3256 rows × 7 columns</p>\n",
       "</div>"
      ],
      "text/plain": [
       "      DaySum  QuantitySum  TotalPriceSum  CustomerCount     DayAvg  MonthAvg  QuantityAvg\n",
       "1651    3842         8496        7320.51            237  16.210970  7.164557    35.848101\n",
       "3803     445          102          77.79             28  15.892857  8.107143     3.642857\n",
       "2057    3397         1777        4400.82            211  16.099526  7.208531     8.421801\n",
       "263       28           -1           0.00              1  28.000000  1.000000    -1.000000\n",
       "1763    1904         1119        1849.23            142  13.408451  4.295775     7.880282\n",
       "...      ...          ...            ...            ...        ...       ...          ...\n",
       "835     1568         1275        1014.14             91  17.230769  7.373626    14.010989\n",
       "3264     221          511         154.39             18  12.277778  7.111111    28.388889\n",
       "1653    3293          928        2402.64            211  15.606635  6.374408     4.398104\n",
       "2607     253           48         120.00             19  13.315789  5.000000     2.526316\n",
       "2732       3          -10           0.00              1   3.000000  3.000000   -10.000000\n",
       "\n",
       "[3256 rows x 7 columns]"
      ]
     },
     "execution_count": 14,
     "metadata": {},
     "output_type": "execute_result"
    }
   ],
   "source": [
    "X_train"
   ]
  },
  {
   "cell_type": "code",
   "execution_count": 15,
   "metadata": {},
   "outputs": [],
   "source": [
    "scaler = StandardScaler()"
   ]
  },
  {
   "cell_type": "code",
   "execution_count": 16,
   "metadata": {},
   "outputs": [],
   "source": [
    "X_train_scaled = scaler.fit_transform(X_train)"
   ]
  },
  {
   "cell_type": "code",
   "execution_count": 17,
   "metadata": {},
   "outputs": [],
   "source": [
    "X_test_scaled = scaler.transform(X_test)"
   ]
  },
  {
   "cell_type": "code",
   "execution_count": 18,
   "metadata": {},
   "outputs": [
    {
     "data": {
      "text/plain": [
       "array([[ 5.53066525e-01,  2.32274954e+00,  5.87761776e-01, ...,\n",
       "         1.94874483e-01,  2.42770327e-01,  3.44821031e-01],\n",
       "       [-5.27633995e-01, -3.87276914e-01, -2.81811153e-01, ...,\n",
       "         9.74236864e-02,  8.52791675e-01,  1.66371006e-02],\n",
       "       [ 4.11496984e-01,  1.53501537e-01,  2.37218971e-01, ...,\n",
       "         1.60734620e-01,  2.71229254e-01,  6.53363918e-02],\n",
       "       ...,\n",
       "       [ 3.78411069e-01, -1.20600496e-01, -2.68582097e-03, ...,\n",
       "         9.74245150e-03, -2.68597381e-01,  2.43333617e-02],\n",
       "       [-5.88715685e-01, -4.04710965e-01, -2.76743351e-01, ...,\n",
       "        -6.92034912e-01, -1.15808445e+00,  5.25911105e-03],\n",
       "       [-6.68249135e-01, -4.23436428e-01, -2.91150749e-01, ...,\n",
       "        -3.85217262e+00, -2.45244150e+00, -1.22388906e-01]])"
      ]
     },
     "execution_count": 18,
     "metadata": {},
     "output_type": "execute_result"
    }
   ],
   "source": [
    "X_train_scaled"
   ]
  },
  {
   "cell_type": "code",
   "execution_count": 19,
   "metadata": {},
   "outputs": [
    {
     "data": {
      "text/plain": [
       "array([[-0.62625547, -0.4140737 , -0.28880955, ...,  1.13679113,\n",
       "        -1.80526298,  0.0071746 ],\n",
       "       [-0.48500407, -0.4030967 , -0.2754851 , ..., -0.3369225 ,\n",
       "        -0.64034163, -0.00698276],\n",
       "       [-0.66125019, -0.41956219, -0.28977484, ..., -0.94194376,\n",
       "         0.45986186, -0.01029464],\n",
       "       ...,\n",
       "       [-0.60653118, -0.42343643, -0.28673728, ..., -0.12896485,\n",
       "         0.03670667, -0.02832379],\n",
       "       [-0.24894879, -0.32819485, -0.15261761, ..., -0.01031013,\n",
       "        -0.73932188,  0.01368274],\n",
       "       [-0.65679632, -0.41923934, -0.28900765, ..., -0.78877382,\n",
       "         1.64635582, -0.01029464]])"
      ]
     },
     "execution_count": 19,
     "metadata": {},
     "output_type": "execute_result"
    }
   ],
   "source": [
    "X_test_scaled"
   ]
  },
  {
   "cell_type": "code",
   "execution_count": null,
   "metadata": {},
   "outputs": [],
   "source": []
  },
  {
   "cell_type": "code",
   "execution_count": null,
   "metadata": {},
   "outputs": [],
   "source": []
  },
  {
   "cell_type": "code",
   "execution_count": null,
   "metadata": {},
   "outputs": [],
   "source": []
  },
  {
   "cell_type": "markdown",
   "metadata": {},
   "source": [
    "### Model Training"
   ]
  },
  {
   "cell_type": "markdown",
   "metadata": {},
   "source": [
    "### Using PyCaret"
   ]
  },
  {
   "cell_type": "code",
   "execution_count": 20,
   "metadata": {},
   "outputs": [
    {
     "name": "stdout",
     "output_type": "stream",
     "text": [
      " \n",
      "Setup Succesfully Completed.\n"
     ]
    },
    {
     "data": {
      "text/html": [
       "<style  type=\"text/css\" >\n",
       "    #T_30335506_eb3c_11ea_8e0c_3c528213d836row15_col1 {\n",
       "            background-color:  yellow;\n",
       "        }</style><table id=\"T_30335506_eb3c_11ea_8e0c_3c528213d836\" ><thead>    <tr>        <th class=\"blank level0\" ></th>        <th class=\"col_heading level0 col0\" >Description</th>        <th class=\"col_heading level0 col1\" >Value</th>    </tr></thead><tbody>\n",
       "                <tr>\n",
       "                        <th id=\"T_30335506_eb3c_11ea_8e0c_3c528213d836level0_row0\" class=\"row_heading level0 row0\" >0</th>\n",
       "                        <td id=\"T_30335506_eb3c_11ea_8e0c_3c528213d836row0_col0\" class=\"data row0 col0\" >session_id</td>\n",
       "                        <td id=\"T_30335506_eb3c_11ea_8e0c_3c528213d836row0_col1\" class=\"data row0 col1\" >0</td>\n",
       "            </tr>\n",
       "            <tr>\n",
       "                        <th id=\"T_30335506_eb3c_11ea_8e0c_3c528213d836level0_row1\" class=\"row_heading level0 row1\" >1</th>\n",
       "                        <td id=\"T_30335506_eb3c_11ea_8e0c_3c528213d836row1_col0\" class=\"data row1 col0\" >Transform Target </td>\n",
       "                        <td id=\"T_30335506_eb3c_11ea_8e0c_3c528213d836row1_col1\" class=\"data row1 col1\" >False</td>\n",
       "            </tr>\n",
       "            <tr>\n",
       "                        <th id=\"T_30335506_eb3c_11ea_8e0c_3c528213d836level0_row2\" class=\"row_heading level0 row2\" >2</th>\n",
       "                        <td id=\"T_30335506_eb3c_11ea_8e0c_3c528213d836row2_col0\" class=\"data row2 col0\" >Transform Target Method</td>\n",
       "                        <td id=\"T_30335506_eb3c_11ea_8e0c_3c528213d836row2_col1\" class=\"data row2 col1\" >None</td>\n",
       "            </tr>\n",
       "            <tr>\n",
       "                        <th id=\"T_30335506_eb3c_11ea_8e0c_3c528213d836level0_row3\" class=\"row_heading level0 row3\" >3</th>\n",
       "                        <td id=\"T_30335506_eb3c_11ea_8e0c_3c528213d836row3_col0\" class=\"data row3 col0\" >Original Data</td>\n",
       "                        <td id=\"T_30335506_eb3c_11ea_8e0c_3c528213d836row3_col1\" class=\"data row3 col1\" >(4070, 8)</td>\n",
       "            </tr>\n",
       "            <tr>\n",
       "                        <th id=\"T_30335506_eb3c_11ea_8e0c_3c528213d836level0_row4\" class=\"row_heading level0 row4\" >4</th>\n",
       "                        <td id=\"T_30335506_eb3c_11ea_8e0c_3c528213d836row4_col0\" class=\"data row4 col0\" >Missing Values </td>\n",
       "                        <td id=\"T_30335506_eb3c_11ea_8e0c_3c528213d836row4_col1\" class=\"data row4 col1\" >False</td>\n",
       "            </tr>\n",
       "            <tr>\n",
       "                        <th id=\"T_30335506_eb3c_11ea_8e0c_3c528213d836level0_row5\" class=\"row_heading level0 row5\" >5</th>\n",
       "                        <td id=\"T_30335506_eb3c_11ea_8e0c_3c528213d836row5_col0\" class=\"data row5 col0\" >Numeric Features </td>\n",
       "                        <td id=\"T_30335506_eb3c_11ea_8e0c_3c528213d836row5_col1\" class=\"data row5 col1\" >7</td>\n",
       "            </tr>\n",
       "            <tr>\n",
       "                        <th id=\"T_30335506_eb3c_11ea_8e0c_3c528213d836level0_row6\" class=\"row_heading level0 row6\" >6</th>\n",
       "                        <td id=\"T_30335506_eb3c_11ea_8e0c_3c528213d836row6_col0\" class=\"data row6 col0\" >Categorical Features </td>\n",
       "                        <td id=\"T_30335506_eb3c_11ea_8e0c_3c528213d836row6_col1\" class=\"data row6 col1\" >0</td>\n",
       "            </tr>\n",
       "            <tr>\n",
       "                        <th id=\"T_30335506_eb3c_11ea_8e0c_3c528213d836level0_row7\" class=\"row_heading level0 row7\" >7</th>\n",
       "                        <td id=\"T_30335506_eb3c_11ea_8e0c_3c528213d836row7_col0\" class=\"data row7 col0\" >Ordinal Features </td>\n",
       "                        <td id=\"T_30335506_eb3c_11ea_8e0c_3c528213d836row7_col1\" class=\"data row7 col1\" >False</td>\n",
       "            </tr>\n",
       "            <tr>\n",
       "                        <th id=\"T_30335506_eb3c_11ea_8e0c_3c528213d836level0_row8\" class=\"row_heading level0 row8\" >8</th>\n",
       "                        <td id=\"T_30335506_eb3c_11ea_8e0c_3c528213d836row8_col0\" class=\"data row8 col0\" >High Cardinality Features </td>\n",
       "                        <td id=\"T_30335506_eb3c_11ea_8e0c_3c528213d836row8_col1\" class=\"data row8 col1\" >False</td>\n",
       "            </tr>\n",
       "            <tr>\n",
       "                        <th id=\"T_30335506_eb3c_11ea_8e0c_3c528213d836level0_row9\" class=\"row_heading level0 row9\" >9</th>\n",
       "                        <td id=\"T_30335506_eb3c_11ea_8e0c_3c528213d836row9_col0\" class=\"data row9 col0\" >High Cardinality Method </td>\n",
       "                        <td id=\"T_30335506_eb3c_11ea_8e0c_3c528213d836row9_col1\" class=\"data row9 col1\" >None</td>\n",
       "            </tr>\n",
       "            <tr>\n",
       "                        <th id=\"T_30335506_eb3c_11ea_8e0c_3c528213d836level0_row10\" class=\"row_heading level0 row10\" >10</th>\n",
       "                        <td id=\"T_30335506_eb3c_11ea_8e0c_3c528213d836row10_col0\" class=\"data row10 col0\" >Sampled Data</td>\n",
       "                        <td id=\"T_30335506_eb3c_11ea_8e0c_3c528213d836row10_col1\" class=\"data row10 col1\" >(4070, 8)</td>\n",
       "            </tr>\n",
       "            <tr>\n",
       "                        <th id=\"T_30335506_eb3c_11ea_8e0c_3c528213d836level0_row11\" class=\"row_heading level0 row11\" >11</th>\n",
       "                        <td id=\"T_30335506_eb3c_11ea_8e0c_3c528213d836row11_col0\" class=\"data row11 col0\" >Transformed Train Set</td>\n",
       "                        <td id=\"T_30335506_eb3c_11ea_8e0c_3c528213d836row11_col1\" class=\"data row11 col1\" >(3256, 7)</td>\n",
       "            </tr>\n",
       "            <tr>\n",
       "                        <th id=\"T_30335506_eb3c_11ea_8e0c_3c528213d836level0_row12\" class=\"row_heading level0 row12\" >12</th>\n",
       "                        <td id=\"T_30335506_eb3c_11ea_8e0c_3c528213d836row12_col0\" class=\"data row12 col0\" >Transformed Test Set</td>\n",
       "                        <td id=\"T_30335506_eb3c_11ea_8e0c_3c528213d836row12_col1\" class=\"data row12 col1\" >(814, 7)</td>\n",
       "            </tr>\n",
       "            <tr>\n",
       "                        <th id=\"T_30335506_eb3c_11ea_8e0c_3c528213d836level0_row13\" class=\"row_heading level0 row13\" >13</th>\n",
       "                        <td id=\"T_30335506_eb3c_11ea_8e0c_3c528213d836row13_col0\" class=\"data row13 col0\" >Numeric Imputer </td>\n",
       "                        <td id=\"T_30335506_eb3c_11ea_8e0c_3c528213d836row13_col1\" class=\"data row13 col1\" >mean</td>\n",
       "            </tr>\n",
       "            <tr>\n",
       "                        <th id=\"T_30335506_eb3c_11ea_8e0c_3c528213d836level0_row14\" class=\"row_heading level0 row14\" >14</th>\n",
       "                        <td id=\"T_30335506_eb3c_11ea_8e0c_3c528213d836row14_col0\" class=\"data row14 col0\" >Categorical Imputer </td>\n",
       "                        <td id=\"T_30335506_eb3c_11ea_8e0c_3c528213d836row14_col1\" class=\"data row14 col1\" >constant</td>\n",
       "            </tr>\n",
       "            <tr>\n",
       "                        <th id=\"T_30335506_eb3c_11ea_8e0c_3c528213d836level0_row15\" class=\"row_heading level0 row15\" >15</th>\n",
       "                        <td id=\"T_30335506_eb3c_11ea_8e0c_3c528213d836row15_col0\" class=\"data row15 col0\" >Normalize </td>\n",
       "                        <td id=\"T_30335506_eb3c_11ea_8e0c_3c528213d836row15_col1\" class=\"data row15 col1\" >True</td>\n",
       "            </tr>\n",
       "            <tr>\n",
       "                        <th id=\"T_30335506_eb3c_11ea_8e0c_3c528213d836level0_row16\" class=\"row_heading level0 row16\" >16</th>\n",
       "                        <td id=\"T_30335506_eb3c_11ea_8e0c_3c528213d836row16_col0\" class=\"data row16 col0\" >Normalize Method </td>\n",
       "                        <td id=\"T_30335506_eb3c_11ea_8e0c_3c528213d836row16_col1\" class=\"data row16 col1\" >zscore</td>\n",
       "            </tr>\n",
       "            <tr>\n",
       "                        <th id=\"T_30335506_eb3c_11ea_8e0c_3c528213d836level0_row17\" class=\"row_heading level0 row17\" >17</th>\n",
       "                        <td id=\"T_30335506_eb3c_11ea_8e0c_3c528213d836row17_col0\" class=\"data row17 col0\" >Transformation </td>\n",
       "                        <td id=\"T_30335506_eb3c_11ea_8e0c_3c528213d836row17_col1\" class=\"data row17 col1\" >False</td>\n",
       "            </tr>\n",
       "            <tr>\n",
       "                        <th id=\"T_30335506_eb3c_11ea_8e0c_3c528213d836level0_row18\" class=\"row_heading level0 row18\" >18</th>\n",
       "                        <td id=\"T_30335506_eb3c_11ea_8e0c_3c528213d836row18_col0\" class=\"data row18 col0\" >Transformation Method </td>\n",
       "                        <td id=\"T_30335506_eb3c_11ea_8e0c_3c528213d836row18_col1\" class=\"data row18 col1\" >None</td>\n",
       "            </tr>\n",
       "            <tr>\n",
       "                        <th id=\"T_30335506_eb3c_11ea_8e0c_3c528213d836level0_row19\" class=\"row_heading level0 row19\" >19</th>\n",
       "                        <td id=\"T_30335506_eb3c_11ea_8e0c_3c528213d836row19_col0\" class=\"data row19 col0\" >PCA </td>\n",
       "                        <td id=\"T_30335506_eb3c_11ea_8e0c_3c528213d836row19_col1\" class=\"data row19 col1\" >False</td>\n",
       "            </tr>\n",
       "            <tr>\n",
       "                        <th id=\"T_30335506_eb3c_11ea_8e0c_3c528213d836level0_row20\" class=\"row_heading level0 row20\" >20</th>\n",
       "                        <td id=\"T_30335506_eb3c_11ea_8e0c_3c528213d836row20_col0\" class=\"data row20 col0\" >PCA Method </td>\n",
       "                        <td id=\"T_30335506_eb3c_11ea_8e0c_3c528213d836row20_col1\" class=\"data row20 col1\" >None</td>\n",
       "            </tr>\n",
       "            <tr>\n",
       "                        <th id=\"T_30335506_eb3c_11ea_8e0c_3c528213d836level0_row21\" class=\"row_heading level0 row21\" >21</th>\n",
       "                        <td id=\"T_30335506_eb3c_11ea_8e0c_3c528213d836row21_col0\" class=\"data row21 col0\" >PCA Components </td>\n",
       "                        <td id=\"T_30335506_eb3c_11ea_8e0c_3c528213d836row21_col1\" class=\"data row21 col1\" >None</td>\n",
       "            </tr>\n",
       "            <tr>\n",
       "                        <th id=\"T_30335506_eb3c_11ea_8e0c_3c528213d836level0_row22\" class=\"row_heading level0 row22\" >22</th>\n",
       "                        <td id=\"T_30335506_eb3c_11ea_8e0c_3c528213d836row22_col0\" class=\"data row22 col0\" >Ignore Low Variance </td>\n",
       "                        <td id=\"T_30335506_eb3c_11ea_8e0c_3c528213d836row22_col1\" class=\"data row22 col1\" >False</td>\n",
       "            </tr>\n",
       "            <tr>\n",
       "                        <th id=\"T_30335506_eb3c_11ea_8e0c_3c528213d836level0_row23\" class=\"row_heading level0 row23\" >23</th>\n",
       "                        <td id=\"T_30335506_eb3c_11ea_8e0c_3c528213d836row23_col0\" class=\"data row23 col0\" >Combine Rare Levels </td>\n",
       "                        <td id=\"T_30335506_eb3c_11ea_8e0c_3c528213d836row23_col1\" class=\"data row23 col1\" >False</td>\n",
       "            </tr>\n",
       "            <tr>\n",
       "                        <th id=\"T_30335506_eb3c_11ea_8e0c_3c528213d836level0_row24\" class=\"row_heading level0 row24\" >24</th>\n",
       "                        <td id=\"T_30335506_eb3c_11ea_8e0c_3c528213d836row24_col0\" class=\"data row24 col0\" >Rare Level Threshold </td>\n",
       "                        <td id=\"T_30335506_eb3c_11ea_8e0c_3c528213d836row24_col1\" class=\"data row24 col1\" >None</td>\n",
       "            </tr>\n",
       "            <tr>\n",
       "                        <th id=\"T_30335506_eb3c_11ea_8e0c_3c528213d836level0_row25\" class=\"row_heading level0 row25\" >25</th>\n",
       "                        <td id=\"T_30335506_eb3c_11ea_8e0c_3c528213d836row25_col0\" class=\"data row25 col0\" >Numeric Binning </td>\n",
       "                        <td id=\"T_30335506_eb3c_11ea_8e0c_3c528213d836row25_col1\" class=\"data row25 col1\" >False</td>\n",
       "            </tr>\n",
       "            <tr>\n",
       "                        <th id=\"T_30335506_eb3c_11ea_8e0c_3c528213d836level0_row26\" class=\"row_heading level0 row26\" >26</th>\n",
       "                        <td id=\"T_30335506_eb3c_11ea_8e0c_3c528213d836row26_col0\" class=\"data row26 col0\" >Remove Outliers </td>\n",
       "                        <td id=\"T_30335506_eb3c_11ea_8e0c_3c528213d836row26_col1\" class=\"data row26 col1\" >False</td>\n",
       "            </tr>\n",
       "            <tr>\n",
       "                        <th id=\"T_30335506_eb3c_11ea_8e0c_3c528213d836level0_row27\" class=\"row_heading level0 row27\" >27</th>\n",
       "                        <td id=\"T_30335506_eb3c_11ea_8e0c_3c528213d836row27_col0\" class=\"data row27 col0\" >Outliers Threshold </td>\n",
       "                        <td id=\"T_30335506_eb3c_11ea_8e0c_3c528213d836row27_col1\" class=\"data row27 col1\" >None</td>\n",
       "            </tr>\n",
       "            <tr>\n",
       "                        <th id=\"T_30335506_eb3c_11ea_8e0c_3c528213d836level0_row28\" class=\"row_heading level0 row28\" >28</th>\n",
       "                        <td id=\"T_30335506_eb3c_11ea_8e0c_3c528213d836row28_col0\" class=\"data row28 col0\" >Remove Multicollinearity </td>\n",
       "                        <td id=\"T_30335506_eb3c_11ea_8e0c_3c528213d836row28_col1\" class=\"data row28 col1\" >False</td>\n",
       "            </tr>\n",
       "            <tr>\n",
       "                        <th id=\"T_30335506_eb3c_11ea_8e0c_3c528213d836level0_row29\" class=\"row_heading level0 row29\" >29</th>\n",
       "                        <td id=\"T_30335506_eb3c_11ea_8e0c_3c528213d836row29_col0\" class=\"data row29 col0\" >Multicollinearity Threshold </td>\n",
       "                        <td id=\"T_30335506_eb3c_11ea_8e0c_3c528213d836row29_col1\" class=\"data row29 col1\" >None</td>\n",
       "            </tr>\n",
       "            <tr>\n",
       "                        <th id=\"T_30335506_eb3c_11ea_8e0c_3c528213d836level0_row30\" class=\"row_heading level0 row30\" >30</th>\n",
       "                        <td id=\"T_30335506_eb3c_11ea_8e0c_3c528213d836row30_col0\" class=\"data row30 col0\" >Clustering </td>\n",
       "                        <td id=\"T_30335506_eb3c_11ea_8e0c_3c528213d836row30_col1\" class=\"data row30 col1\" >False</td>\n",
       "            </tr>\n",
       "            <tr>\n",
       "                        <th id=\"T_30335506_eb3c_11ea_8e0c_3c528213d836level0_row31\" class=\"row_heading level0 row31\" >31</th>\n",
       "                        <td id=\"T_30335506_eb3c_11ea_8e0c_3c528213d836row31_col0\" class=\"data row31 col0\" >Clustering Iteration </td>\n",
       "                        <td id=\"T_30335506_eb3c_11ea_8e0c_3c528213d836row31_col1\" class=\"data row31 col1\" >None</td>\n",
       "            </tr>\n",
       "            <tr>\n",
       "                        <th id=\"T_30335506_eb3c_11ea_8e0c_3c528213d836level0_row32\" class=\"row_heading level0 row32\" >32</th>\n",
       "                        <td id=\"T_30335506_eb3c_11ea_8e0c_3c528213d836row32_col0\" class=\"data row32 col0\" >Polynomial Features </td>\n",
       "                        <td id=\"T_30335506_eb3c_11ea_8e0c_3c528213d836row32_col1\" class=\"data row32 col1\" >False</td>\n",
       "            </tr>\n",
       "            <tr>\n",
       "                        <th id=\"T_30335506_eb3c_11ea_8e0c_3c528213d836level0_row33\" class=\"row_heading level0 row33\" >33</th>\n",
       "                        <td id=\"T_30335506_eb3c_11ea_8e0c_3c528213d836row33_col0\" class=\"data row33 col0\" >Polynomial Degree </td>\n",
       "                        <td id=\"T_30335506_eb3c_11ea_8e0c_3c528213d836row33_col1\" class=\"data row33 col1\" >None</td>\n",
       "            </tr>\n",
       "            <tr>\n",
       "                        <th id=\"T_30335506_eb3c_11ea_8e0c_3c528213d836level0_row34\" class=\"row_heading level0 row34\" >34</th>\n",
       "                        <td id=\"T_30335506_eb3c_11ea_8e0c_3c528213d836row34_col0\" class=\"data row34 col0\" >Trignometry Features </td>\n",
       "                        <td id=\"T_30335506_eb3c_11ea_8e0c_3c528213d836row34_col1\" class=\"data row34 col1\" >False</td>\n",
       "            </tr>\n",
       "            <tr>\n",
       "                        <th id=\"T_30335506_eb3c_11ea_8e0c_3c528213d836level0_row35\" class=\"row_heading level0 row35\" >35</th>\n",
       "                        <td id=\"T_30335506_eb3c_11ea_8e0c_3c528213d836row35_col0\" class=\"data row35 col0\" >Polynomial Threshold </td>\n",
       "                        <td id=\"T_30335506_eb3c_11ea_8e0c_3c528213d836row35_col1\" class=\"data row35 col1\" >None</td>\n",
       "            </tr>\n",
       "            <tr>\n",
       "                        <th id=\"T_30335506_eb3c_11ea_8e0c_3c528213d836level0_row36\" class=\"row_heading level0 row36\" >36</th>\n",
       "                        <td id=\"T_30335506_eb3c_11ea_8e0c_3c528213d836row36_col0\" class=\"data row36 col0\" >Group Features </td>\n",
       "                        <td id=\"T_30335506_eb3c_11ea_8e0c_3c528213d836row36_col1\" class=\"data row36 col1\" >False</td>\n",
       "            </tr>\n",
       "            <tr>\n",
       "                        <th id=\"T_30335506_eb3c_11ea_8e0c_3c528213d836level0_row37\" class=\"row_heading level0 row37\" >37</th>\n",
       "                        <td id=\"T_30335506_eb3c_11ea_8e0c_3c528213d836row37_col0\" class=\"data row37 col0\" >Feature Selection </td>\n",
       "                        <td id=\"T_30335506_eb3c_11ea_8e0c_3c528213d836row37_col1\" class=\"data row37 col1\" >False</td>\n",
       "            </tr>\n",
       "            <tr>\n",
       "                        <th id=\"T_30335506_eb3c_11ea_8e0c_3c528213d836level0_row38\" class=\"row_heading level0 row38\" >38</th>\n",
       "                        <td id=\"T_30335506_eb3c_11ea_8e0c_3c528213d836row38_col0\" class=\"data row38 col0\" >Features Selection Threshold </td>\n",
       "                        <td id=\"T_30335506_eb3c_11ea_8e0c_3c528213d836row38_col1\" class=\"data row38 col1\" >None</td>\n",
       "            </tr>\n",
       "            <tr>\n",
       "                        <th id=\"T_30335506_eb3c_11ea_8e0c_3c528213d836level0_row39\" class=\"row_heading level0 row39\" >39</th>\n",
       "                        <td id=\"T_30335506_eb3c_11ea_8e0c_3c528213d836row39_col0\" class=\"data row39 col0\" >Feature Interaction </td>\n",
       "                        <td id=\"T_30335506_eb3c_11ea_8e0c_3c528213d836row39_col1\" class=\"data row39 col1\" >False</td>\n",
       "            </tr>\n",
       "            <tr>\n",
       "                        <th id=\"T_30335506_eb3c_11ea_8e0c_3c528213d836level0_row40\" class=\"row_heading level0 row40\" >40</th>\n",
       "                        <td id=\"T_30335506_eb3c_11ea_8e0c_3c528213d836row40_col0\" class=\"data row40 col0\" >Feature Ratio </td>\n",
       "                        <td id=\"T_30335506_eb3c_11ea_8e0c_3c528213d836row40_col1\" class=\"data row40 col1\" >False</td>\n",
       "            </tr>\n",
       "            <tr>\n",
       "                        <th id=\"T_30335506_eb3c_11ea_8e0c_3c528213d836level0_row41\" class=\"row_heading level0 row41\" >41</th>\n",
       "                        <td id=\"T_30335506_eb3c_11ea_8e0c_3c528213d836row41_col0\" class=\"data row41 col0\" >Interaction Threshold </td>\n",
       "                        <td id=\"T_30335506_eb3c_11ea_8e0c_3c528213d836row41_col1\" class=\"data row41 col1\" >None</td>\n",
       "            </tr>\n",
       "    </tbody></table>"
      ],
      "text/plain": [
       "<pandas.io.formats.style.Styler at 0x18246e8a670>"
      ]
     },
     "metadata": {},
     "output_type": "display_data"
    }
   ],
   "source": [
    "exp_reg = setup(data = df, target = 'MonthSum', session_id=0, normalize=True, train_size=0.8) "
   ]
  },
  {
   "cell_type": "code",
   "execution_count": 21,
   "metadata": {},
   "outputs": [
    {
     "data": {
      "text/html": [
       "<style  type=\"text/css\" >\n",
       "    #T_6306679e_eb3c_11ea_9f6e_3c528213d836 th {\n",
       "          text-align: left;\n",
       "    }    #T_6306679e_eb3c_11ea_9f6e_3c528213d836row0_col0 {\n",
       "            text-align:  left;\n",
       "        }    #T_6306679e_eb3c_11ea_9f6e_3c528213d836row0_col1 {\n",
       "            background-color:  yellow;\n",
       "            text-align:  left;\n",
       "        }    #T_6306679e_eb3c_11ea_9f6e_3c528213d836row0_col2 {\n",
       "            background-color:  yellow;\n",
       "            text-align:  left;\n",
       "        }    #T_6306679e_eb3c_11ea_9f6e_3c528213d836row0_col3 {\n",
       "            background-color:  yellow;\n",
       "            text-align:  left;\n",
       "        }    #T_6306679e_eb3c_11ea_9f6e_3c528213d836row0_col4 {\n",
       "            background-color:  yellow;\n",
       "            text-align:  left;\n",
       "        }    #T_6306679e_eb3c_11ea_9f6e_3c528213d836row0_col5 {\n",
       "            background-color:  yellow;\n",
       "            text-align:  left;\n",
       "        }    #T_6306679e_eb3c_11ea_9f6e_3c528213d836row0_col6 {\n",
       "            background-color:  yellow;\n",
       "            text-align:  left;\n",
       "        }    #T_6306679e_eb3c_11ea_9f6e_3c528213d836row0_col7 {\n",
       "            background-color:  lightgrey;\n",
       "            text-align:  left;\n",
       "        }    #T_6306679e_eb3c_11ea_9f6e_3c528213d836row1_col0 {\n",
       "            text-align:  left;\n",
       "        }    #T_6306679e_eb3c_11ea_9f6e_3c528213d836row1_col1 {\n",
       "            : ;\n",
       "            text-align:  left;\n",
       "        }    #T_6306679e_eb3c_11ea_9f6e_3c528213d836row1_col2 {\n",
       "            : ;\n",
       "            text-align:  left;\n",
       "        }    #T_6306679e_eb3c_11ea_9f6e_3c528213d836row1_col3 {\n",
       "            : ;\n",
       "            text-align:  left;\n",
       "        }    #T_6306679e_eb3c_11ea_9f6e_3c528213d836row1_col4 {\n",
       "            : ;\n",
       "            text-align:  left;\n",
       "        }    #T_6306679e_eb3c_11ea_9f6e_3c528213d836row1_col5 {\n",
       "            : ;\n",
       "            text-align:  left;\n",
       "        }    #T_6306679e_eb3c_11ea_9f6e_3c528213d836row1_col6 {\n",
       "            : ;\n",
       "            text-align:  left;\n",
       "        }    #T_6306679e_eb3c_11ea_9f6e_3c528213d836row1_col7 {\n",
       "            background-color:  lightgrey;\n",
       "            text-align:  left;\n",
       "        }    #T_6306679e_eb3c_11ea_9f6e_3c528213d836row2_col0 {\n",
       "            text-align:  left;\n",
       "        }    #T_6306679e_eb3c_11ea_9f6e_3c528213d836row2_col1 {\n",
       "            : ;\n",
       "            text-align:  left;\n",
       "        }    #T_6306679e_eb3c_11ea_9f6e_3c528213d836row2_col2 {\n",
       "            : ;\n",
       "            text-align:  left;\n",
       "        }    #T_6306679e_eb3c_11ea_9f6e_3c528213d836row2_col3 {\n",
       "            : ;\n",
       "            text-align:  left;\n",
       "        }    #T_6306679e_eb3c_11ea_9f6e_3c528213d836row2_col4 {\n",
       "            : ;\n",
       "            text-align:  left;\n",
       "        }    #T_6306679e_eb3c_11ea_9f6e_3c528213d836row2_col5 {\n",
       "            : ;\n",
       "            text-align:  left;\n",
       "        }    #T_6306679e_eb3c_11ea_9f6e_3c528213d836row2_col6 {\n",
       "            : ;\n",
       "            text-align:  left;\n",
       "        }    #T_6306679e_eb3c_11ea_9f6e_3c528213d836row2_col7 {\n",
       "            background-color:  lightgrey;\n",
       "            text-align:  left;\n",
       "        }    #T_6306679e_eb3c_11ea_9f6e_3c528213d836row3_col0 {\n",
       "            text-align:  left;\n",
       "        }    #T_6306679e_eb3c_11ea_9f6e_3c528213d836row3_col1 {\n",
       "            : ;\n",
       "            text-align:  left;\n",
       "        }    #T_6306679e_eb3c_11ea_9f6e_3c528213d836row3_col2 {\n",
       "            : ;\n",
       "            text-align:  left;\n",
       "        }    #T_6306679e_eb3c_11ea_9f6e_3c528213d836row3_col3 {\n",
       "            : ;\n",
       "            text-align:  left;\n",
       "        }    #T_6306679e_eb3c_11ea_9f6e_3c528213d836row3_col4 {\n",
       "            : ;\n",
       "            text-align:  left;\n",
       "        }    #T_6306679e_eb3c_11ea_9f6e_3c528213d836row3_col5 {\n",
       "            : ;\n",
       "            text-align:  left;\n",
       "        }    #T_6306679e_eb3c_11ea_9f6e_3c528213d836row3_col6 {\n",
       "            : ;\n",
       "            text-align:  left;\n",
       "        }    #T_6306679e_eb3c_11ea_9f6e_3c528213d836row3_col7 {\n",
       "            background-color:  lightgrey;\n",
       "            text-align:  left;\n",
       "        }    #T_6306679e_eb3c_11ea_9f6e_3c528213d836row4_col0 {\n",
       "            text-align:  left;\n",
       "        }    #T_6306679e_eb3c_11ea_9f6e_3c528213d836row4_col1 {\n",
       "            : ;\n",
       "            text-align:  left;\n",
       "        }    #T_6306679e_eb3c_11ea_9f6e_3c528213d836row4_col2 {\n",
       "            : ;\n",
       "            text-align:  left;\n",
       "        }    #T_6306679e_eb3c_11ea_9f6e_3c528213d836row4_col3 {\n",
       "            : ;\n",
       "            text-align:  left;\n",
       "        }    #T_6306679e_eb3c_11ea_9f6e_3c528213d836row4_col4 {\n",
       "            : ;\n",
       "            text-align:  left;\n",
       "        }    #T_6306679e_eb3c_11ea_9f6e_3c528213d836row4_col5 {\n",
       "            : ;\n",
       "            text-align:  left;\n",
       "        }    #T_6306679e_eb3c_11ea_9f6e_3c528213d836row4_col6 {\n",
       "            : ;\n",
       "            text-align:  left;\n",
       "        }    #T_6306679e_eb3c_11ea_9f6e_3c528213d836row4_col7 {\n",
       "            background-color:  lightgrey;\n",
       "            text-align:  left;\n",
       "        }    #T_6306679e_eb3c_11ea_9f6e_3c528213d836row5_col0 {\n",
       "            text-align:  left;\n",
       "        }    #T_6306679e_eb3c_11ea_9f6e_3c528213d836row5_col1 {\n",
       "            : ;\n",
       "            text-align:  left;\n",
       "        }    #T_6306679e_eb3c_11ea_9f6e_3c528213d836row5_col2 {\n",
       "            : ;\n",
       "            text-align:  left;\n",
       "        }    #T_6306679e_eb3c_11ea_9f6e_3c528213d836row5_col3 {\n",
       "            : ;\n",
       "            text-align:  left;\n",
       "        }    #T_6306679e_eb3c_11ea_9f6e_3c528213d836row5_col4 {\n",
       "            : ;\n",
       "            text-align:  left;\n",
       "        }    #T_6306679e_eb3c_11ea_9f6e_3c528213d836row5_col5 {\n",
       "            : ;\n",
       "            text-align:  left;\n",
       "        }    #T_6306679e_eb3c_11ea_9f6e_3c528213d836row5_col6 {\n",
       "            : ;\n",
       "            text-align:  left;\n",
       "        }    #T_6306679e_eb3c_11ea_9f6e_3c528213d836row5_col7 {\n",
       "            background-color:  lightgrey;\n",
       "            text-align:  left;\n",
       "        }    #T_6306679e_eb3c_11ea_9f6e_3c528213d836row6_col0 {\n",
       "            text-align:  left;\n",
       "        }    #T_6306679e_eb3c_11ea_9f6e_3c528213d836row6_col1 {\n",
       "            : ;\n",
       "            text-align:  left;\n",
       "        }    #T_6306679e_eb3c_11ea_9f6e_3c528213d836row6_col2 {\n",
       "            : ;\n",
       "            text-align:  left;\n",
       "        }    #T_6306679e_eb3c_11ea_9f6e_3c528213d836row6_col3 {\n",
       "            : ;\n",
       "            text-align:  left;\n",
       "        }    #T_6306679e_eb3c_11ea_9f6e_3c528213d836row6_col4 {\n",
       "            : ;\n",
       "            text-align:  left;\n",
       "        }    #T_6306679e_eb3c_11ea_9f6e_3c528213d836row6_col5 {\n",
       "            : ;\n",
       "            text-align:  left;\n",
       "        }    #T_6306679e_eb3c_11ea_9f6e_3c528213d836row6_col6 {\n",
       "            : ;\n",
       "            text-align:  left;\n",
       "        }    #T_6306679e_eb3c_11ea_9f6e_3c528213d836row6_col7 {\n",
       "            background-color:  lightgrey;\n",
       "            text-align:  left;\n",
       "        }    #T_6306679e_eb3c_11ea_9f6e_3c528213d836row7_col0 {\n",
       "            text-align:  left;\n",
       "        }    #T_6306679e_eb3c_11ea_9f6e_3c528213d836row7_col1 {\n",
       "            : ;\n",
       "            text-align:  left;\n",
       "        }    #T_6306679e_eb3c_11ea_9f6e_3c528213d836row7_col2 {\n",
       "            : ;\n",
       "            text-align:  left;\n",
       "        }    #T_6306679e_eb3c_11ea_9f6e_3c528213d836row7_col3 {\n",
       "            : ;\n",
       "            text-align:  left;\n",
       "        }    #T_6306679e_eb3c_11ea_9f6e_3c528213d836row7_col4 {\n",
       "            : ;\n",
       "            text-align:  left;\n",
       "        }    #T_6306679e_eb3c_11ea_9f6e_3c528213d836row7_col5 {\n",
       "            : ;\n",
       "            text-align:  left;\n",
       "        }    #T_6306679e_eb3c_11ea_9f6e_3c528213d836row7_col6 {\n",
       "            : ;\n",
       "            text-align:  left;\n",
       "        }    #T_6306679e_eb3c_11ea_9f6e_3c528213d836row7_col7 {\n",
       "            background-color:  lightgrey;\n",
       "            text-align:  left;\n",
       "        }    #T_6306679e_eb3c_11ea_9f6e_3c528213d836row8_col0 {\n",
       "            text-align:  left;\n",
       "        }    #T_6306679e_eb3c_11ea_9f6e_3c528213d836row8_col1 {\n",
       "            : ;\n",
       "            text-align:  left;\n",
       "        }    #T_6306679e_eb3c_11ea_9f6e_3c528213d836row8_col2 {\n",
       "            : ;\n",
       "            text-align:  left;\n",
       "        }    #T_6306679e_eb3c_11ea_9f6e_3c528213d836row8_col3 {\n",
       "            : ;\n",
       "            text-align:  left;\n",
       "        }    #T_6306679e_eb3c_11ea_9f6e_3c528213d836row8_col4 {\n",
       "            : ;\n",
       "            text-align:  left;\n",
       "        }    #T_6306679e_eb3c_11ea_9f6e_3c528213d836row8_col5 {\n",
       "            : ;\n",
       "            text-align:  left;\n",
       "        }    #T_6306679e_eb3c_11ea_9f6e_3c528213d836row8_col6 {\n",
       "            : ;\n",
       "            text-align:  left;\n",
       "        }    #T_6306679e_eb3c_11ea_9f6e_3c528213d836row8_col7 {\n",
       "            background-color:  lightgrey;\n",
       "            text-align:  left;\n",
       "        }    #T_6306679e_eb3c_11ea_9f6e_3c528213d836row9_col0 {\n",
       "            text-align:  left;\n",
       "        }    #T_6306679e_eb3c_11ea_9f6e_3c528213d836row9_col1 {\n",
       "            : ;\n",
       "            text-align:  left;\n",
       "        }    #T_6306679e_eb3c_11ea_9f6e_3c528213d836row9_col2 {\n",
       "            : ;\n",
       "            text-align:  left;\n",
       "        }    #T_6306679e_eb3c_11ea_9f6e_3c528213d836row9_col3 {\n",
       "            : ;\n",
       "            text-align:  left;\n",
       "        }    #T_6306679e_eb3c_11ea_9f6e_3c528213d836row9_col4 {\n",
       "            : ;\n",
       "            text-align:  left;\n",
       "        }    #T_6306679e_eb3c_11ea_9f6e_3c528213d836row9_col5 {\n",
       "            : ;\n",
       "            text-align:  left;\n",
       "        }    #T_6306679e_eb3c_11ea_9f6e_3c528213d836row9_col6 {\n",
       "            : ;\n",
       "            text-align:  left;\n",
       "        }    #T_6306679e_eb3c_11ea_9f6e_3c528213d836row9_col7 {\n",
       "            background-color:  lightgrey;\n",
       "            text-align:  left;\n",
       "        }    #T_6306679e_eb3c_11ea_9f6e_3c528213d836row10_col0 {\n",
       "            text-align:  left;\n",
       "        }    #T_6306679e_eb3c_11ea_9f6e_3c528213d836row10_col1 {\n",
       "            : ;\n",
       "            text-align:  left;\n",
       "        }    #T_6306679e_eb3c_11ea_9f6e_3c528213d836row10_col2 {\n",
       "            : ;\n",
       "            text-align:  left;\n",
       "        }    #T_6306679e_eb3c_11ea_9f6e_3c528213d836row10_col3 {\n",
       "            : ;\n",
       "            text-align:  left;\n",
       "        }    #T_6306679e_eb3c_11ea_9f6e_3c528213d836row10_col4 {\n",
       "            : ;\n",
       "            text-align:  left;\n",
       "        }    #T_6306679e_eb3c_11ea_9f6e_3c528213d836row10_col5 {\n",
       "            : ;\n",
       "            text-align:  left;\n",
       "        }    #T_6306679e_eb3c_11ea_9f6e_3c528213d836row10_col6 {\n",
       "            : ;\n",
       "            text-align:  left;\n",
       "        }    #T_6306679e_eb3c_11ea_9f6e_3c528213d836row10_col7 {\n",
       "            background-color:  lightgrey;\n",
       "            text-align:  left;\n",
       "        }    #T_6306679e_eb3c_11ea_9f6e_3c528213d836row11_col0 {\n",
       "            text-align:  left;\n",
       "        }    #T_6306679e_eb3c_11ea_9f6e_3c528213d836row11_col1 {\n",
       "            : ;\n",
       "            text-align:  left;\n",
       "        }    #T_6306679e_eb3c_11ea_9f6e_3c528213d836row11_col2 {\n",
       "            : ;\n",
       "            text-align:  left;\n",
       "        }    #T_6306679e_eb3c_11ea_9f6e_3c528213d836row11_col3 {\n",
       "            : ;\n",
       "            text-align:  left;\n",
       "        }    #T_6306679e_eb3c_11ea_9f6e_3c528213d836row11_col4 {\n",
       "            : ;\n",
       "            text-align:  left;\n",
       "        }    #T_6306679e_eb3c_11ea_9f6e_3c528213d836row11_col5 {\n",
       "            : ;\n",
       "            text-align:  left;\n",
       "        }    #T_6306679e_eb3c_11ea_9f6e_3c528213d836row11_col6 {\n",
       "            : ;\n",
       "            text-align:  left;\n",
       "        }    #T_6306679e_eb3c_11ea_9f6e_3c528213d836row11_col7 {\n",
       "            background-color:  lightgrey;\n",
       "            text-align:  left;\n",
       "        }    #T_6306679e_eb3c_11ea_9f6e_3c528213d836row12_col0 {\n",
       "            text-align:  left;\n",
       "        }    #T_6306679e_eb3c_11ea_9f6e_3c528213d836row12_col1 {\n",
       "            : ;\n",
       "            text-align:  left;\n",
       "        }    #T_6306679e_eb3c_11ea_9f6e_3c528213d836row12_col2 {\n",
       "            : ;\n",
       "            text-align:  left;\n",
       "        }    #T_6306679e_eb3c_11ea_9f6e_3c528213d836row12_col3 {\n",
       "            : ;\n",
       "            text-align:  left;\n",
       "        }    #T_6306679e_eb3c_11ea_9f6e_3c528213d836row12_col4 {\n",
       "            : ;\n",
       "            text-align:  left;\n",
       "        }    #T_6306679e_eb3c_11ea_9f6e_3c528213d836row12_col5 {\n",
       "            : ;\n",
       "            text-align:  left;\n",
       "        }    #T_6306679e_eb3c_11ea_9f6e_3c528213d836row12_col6 {\n",
       "            : ;\n",
       "            text-align:  left;\n",
       "        }    #T_6306679e_eb3c_11ea_9f6e_3c528213d836row12_col7 {\n",
       "            background-color:  lightgrey;\n",
       "            text-align:  left;\n",
       "        }    #T_6306679e_eb3c_11ea_9f6e_3c528213d836row13_col0 {\n",
       "            text-align:  left;\n",
       "        }    #T_6306679e_eb3c_11ea_9f6e_3c528213d836row13_col1 {\n",
       "            : ;\n",
       "            text-align:  left;\n",
       "        }    #T_6306679e_eb3c_11ea_9f6e_3c528213d836row13_col2 {\n",
       "            : ;\n",
       "            text-align:  left;\n",
       "        }    #T_6306679e_eb3c_11ea_9f6e_3c528213d836row13_col3 {\n",
       "            : ;\n",
       "            text-align:  left;\n",
       "        }    #T_6306679e_eb3c_11ea_9f6e_3c528213d836row13_col4 {\n",
       "            : ;\n",
       "            text-align:  left;\n",
       "        }    #T_6306679e_eb3c_11ea_9f6e_3c528213d836row13_col5 {\n",
       "            : ;\n",
       "            text-align:  left;\n",
       "        }    #T_6306679e_eb3c_11ea_9f6e_3c528213d836row13_col6 {\n",
       "            : ;\n",
       "            text-align:  left;\n",
       "        }    #T_6306679e_eb3c_11ea_9f6e_3c528213d836row13_col7 {\n",
       "            background-color:  lightgrey;\n",
       "            text-align:  left;\n",
       "        }    #T_6306679e_eb3c_11ea_9f6e_3c528213d836row14_col0 {\n",
       "            text-align:  left;\n",
       "        }    #T_6306679e_eb3c_11ea_9f6e_3c528213d836row14_col1 {\n",
       "            : ;\n",
       "            text-align:  left;\n",
       "        }    #T_6306679e_eb3c_11ea_9f6e_3c528213d836row14_col2 {\n",
       "            : ;\n",
       "            text-align:  left;\n",
       "        }    #T_6306679e_eb3c_11ea_9f6e_3c528213d836row14_col3 {\n",
       "            : ;\n",
       "            text-align:  left;\n",
       "        }    #T_6306679e_eb3c_11ea_9f6e_3c528213d836row14_col4 {\n",
       "            : ;\n",
       "            text-align:  left;\n",
       "        }    #T_6306679e_eb3c_11ea_9f6e_3c528213d836row14_col5 {\n",
       "            : ;\n",
       "            text-align:  left;\n",
       "        }    #T_6306679e_eb3c_11ea_9f6e_3c528213d836row14_col6 {\n",
       "            : ;\n",
       "            text-align:  left;\n",
       "        }    #T_6306679e_eb3c_11ea_9f6e_3c528213d836row14_col7 {\n",
       "            background-color:  lightgrey;\n",
       "            text-align:  left;\n",
       "        }    #T_6306679e_eb3c_11ea_9f6e_3c528213d836row15_col0 {\n",
       "            text-align:  left;\n",
       "        }    #T_6306679e_eb3c_11ea_9f6e_3c528213d836row15_col1 {\n",
       "            : ;\n",
       "            text-align:  left;\n",
       "        }    #T_6306679e_eb3c_11ea_9f6e_3c528213d836row15_col2 {\n",
       "            : ;\n",
       "            text-align:  left;\n",
       "        }    #T_6306679e_eb3c_11ea_9f6e_3c528213d836row15_col3 {\n",
       "            : ;\n",
       "            text-align:  left;\n",
       "        }    #T_6306679e_eb3c_11ea_9f6e_3c528213d836row15_col4 {\n",
       "            : ;\n",
       "            text-align:  left;\n",
       "        }    #T_6306679e_eb3c_11ea_9f6e_3c528213d836row15_col5 {\n",
       "            : ;\n",
       "            text-align:  left;\n",
       "        }    #T_6306679e_eb3c_11ea_9f6e_3c528213d836row15_col6 {\n",
       "            : ;\n",
       "            text-align:  left;\n",
       "        }    #T_6306679e_eb3c_11ea_9f6e_3c528213d836row15_col7 {\n",
       "            background-color:  lightgrey;\n",
       "            text-align:  left;\n",
       "        }    #T_6306679e_eb3c_11ea_9f6e_3c528213d836row16_col0 {\n",
       "            text-align:  left;\n",
       "        }    #T_6306679e_eb3c_11ea_9f6e_3c528213d836row16_col1 {\n",
       "            : ;\n",
       "            text-align:  left;\n",
       "        }    #T_6306679e_eb3c_11ea_9f6e_3c528213d836row16_col2 {\n",
       "            : ;\n",
       "            text-align:  left;\n",
       "        }    #T_6306679e_eb3c_11ea_9f6e_3c528213d836row16_col3 {\n",
       "            : ;\n",
       "            text-align:  left;\n",
       "        }    #T_6306679e_eb3c_11ea_9f6e_3c528213d836row16_col4 {\n",
       "            : ;\n",
       "            text-align:  left;\n",
       "        }    #T_6306679e_eb3c_11ea_9f6e_3c528213d836row16_col5 {\n",
       "            : ;\n",
       "            text-align:  left;\n",
       "        }    #T_6306679e_eb3c_11ea_9f6e_3c528213d836row16_col6 {\n",
       "            : ;\n",
       "            text-align:  left;\n",
       "        }    #T_6306679e_eb3c_11ea_9f6e_3c528213d836row16_col7 {\n",
       "            background-color:  lightgrey;\n",
       "            text-align:  left;\n",
       "        }    #T_6306679e_eb3c_11ea_9f6e_3c528213d836row17_col0 {\n",
       "            text-align:  left;\n",
       "        }    #T_6306679e_eb3c_11ea_9f6e_3c528213d836row17_col1 {\n",
       "            : ;\n",
       "            text-align:  left;\n",
       "        }    #T_6306679e_eb3c_11ea_9f6e_3c528213d836row17_col2 {\n",
       "            : ;\n",
       "            text-align:  left;\n",
       "        }    #T_6306679e_eb3c_11ea_9f6e_3c528213d836row17_col3 {\n",
       "            : ;\n",
       "            text-align:  left;\n",
       "        }    #T_6306679e_eb3c_11ea_9f6e_3c528213d836row17_col4 {\n",
       "            : ;\n",
       "            text-align:  left;\n",
       "        }    #T_6306679e_eb3c_11ea_9f6e_3c528213d836row17_col5 {\n",
       "            : ;\n",
       "            text-align:  left;\n",
       "        }    #T_6306679e_eb3c_11ea_9f6e_3c528213d836row17_col6 {\n",
       "            : ;\n",
       "            text-align:  left;\n",
       "        }    #T_6306679e_eb3c_11ea_9f6e_3c528213d836row17_col7 {\n",
       "            background-color:  lightgrey;\n",
       "            text-align:  left;\n",
       "        }    #T_6306679e_eb3c_11ea_9f6e_3c528213d836row18_col0 {\n",
       "            text-align:  left;\n",
       "        }    #T_6306679e_eb3c_11ea_9f6e_3c528213d836row18_col1 {\n",
       "            : ;\n",
       "            text-align:  left;\n",
       "        }    #T_6306679e_eb3c_11ea_9f6e_3c528213d836row18_col2 {\n",
       "            : ;\n",
       "            text-align:  left;\n",
       "        }    #T_6306679e_eb3c_11ea_9f6e_3c528213d836row18_col3 {\n",
       "            : ;\n",
       "            text-align:  left;\n",
       "        }    #T_6306679e_eb3c_11ea_9f6e_3c528213d836row18_col4 {\n",
       "            : ;\n",
       "            text-align:  left;\n",
       "        }    #T_6306679e_eb3c_11ea_9f6e_3c528213d836row18_col5 {\n",
       "            : ;\n",
       "            text-align:  left;\n",
       "        }    #T_6306679e_eb3c_11ea_9f6e_3c528213d836row18_col6 {\n",
       "            : ;\n",
       "            text-align:  left;\n",
       "        }    #T_6306679e_eb3c_11ea_9f6e_3c528213d836row18_col7 {\n",
       "            background-color:  lightgrey;\n",
       "            text-align:  left;\n",
       "        }    #T_6306679e_eb3c_11ea_9f6e_3c528213d836row19_col0 {\n",
       "            text-align:  left;\n",
       "        }    #T_6306679e_eb3c_11ea_9f6e_3c528213d836row19_col1 {\n",
       "            : ;\n",
       "            text-align:  left;\n",
       "        }    #T_6306679e_eb3c_11ea_9f6e_3c528213d836row19_col2 {\n",
       "            : ;\n",
       "            text-align:  left;\n",
       "        }    #T_6306679e_eb3c_11ea_9f6e_3c528213d836row19_col3 {\n",
       "            : ;\n",
       "            text-align:  left;\n",
       "        }    #T_6306679e_eb3c_11ea_9f6e_3c528213d836row19_col4 {\n",
       "            : ;\n",
       "            text-align:  left;\n",
       "        }    #T_6306679e_eb3c_11ea_9f6e_3c528213d836row19_col5 {\n",
       "            : ;\n",
       "            text-align:  left;\n",
       "        }    #T_6306679e_eb3c_11ea_9f6e_3c528213d836row19_col6 {\n",
       "            : ;\n",
       "            text-align:  left;\n",
       "        }    #T_6306679e_eb3c_11ea_9f6e_3c528213d836row19_col7 {\n",
       "            background-color:  lightgrey;\n",
       "            text-align:  left;\n",
       "        }    #T_6306679e_eb3c_11ea_9f6e_3c528213d836row20_col0 {\n",
       "            text-align:  left;\n",
       "        }    #T_6306679e_eb3c_11ea_9f6e_3c528213d836row20_col1 {\n",
       "            : ;\n",
       "            text-align:  left;\n",
       "        }    #T_6306679e_eb3c_11ea_9f6e_3c528213d836row20_col2 {\n",
       "            : ;\n",
       "            text-align:  left;\n",
       "        }    #T_6306679e_eb3c_11ea_9f6e_3c528213d836row20_col3 {\n",
       "            : ;\n",
       "            text-align:  left;\n",
       "        }    #T_6306679e_eb3c_11ea_9f6e_3c528213d836row20_col4 {\n",
       "            : ;\n",
       "            text-align:  left;\n",
       "        }    #T_6306679e_eb3c_11ea_9f6e_3c528213d836row20_col5 {\n",
       "            : ;\n",
       "            text-align:  left;\n",
       "        }    #T_6306679e_eb3c_11ea_9f6e_3c528213d836row20_col6 {\n",
       "            : ;\n",
       "            text-align:  left;\n",
       "        }    #T_6306679e_eb3c_11ea_9f6e_3c528213d836row20_col7 {\n",
       "            background-color:  lightgrey;\n",
       "            text-align:  left;\n",
       "        }    #T_6306679e_eb3c_11ea_9f6e_3c528213d836row21_col0 {\n",
       "            text-align:  left;\n",
       "        }    #T_6306679e_eb3c_11ea_9f6e_3c528213d836row21_col1 {\n",
       "            : ;\n",
       "            text-align:  left;\n",
       "        }    #T_6306679e_eb3c_11ea_9f6e_3c528213d836row21_col2 {\n",
       "            : ;\n",
       "            text-align:  left;\n",
       "        }    #T_6306679e_eb3c_11ea_9f6e_3c528213d836row21_col3 {\n",
       "            : ;\n",
       "            text-align:  left;\n",
       "        }    #T_6306679e_eb3c_11ea_9f6e_3c528213d836row21_col4 {\n",
       "            : ;\n",
       "            text-align:  left;\n",
       "        }    #T_6306679e_eb3c_11ea_9f6e_3c528213d836row21_col5 {\n",
       "            : ;\n",
       "            text-align:  left;\n",
       "        }    #T_6306679e_eb3c_11ea_9f6e_3c528213d836row21_col6 {\n",
       "            : ;\n",
       "            text-align:  left;\n",
       "        }    #T_6306679e_eb3c_11ea_9f6e_3c528213d836row21_col7 {\n",
       "            background-color:  lightgrey;\n",
       "            text-align:  left;\n",
       "        }</style><table id=\"T_6306679e_eb3c_11ea_9f6e_3c528213d836\" ><thead>    <tr>        <th class=\"blank level0\" ></th>        <th class=\"col_heading level0 col0\" >Model</th>        <th class=\"col_heading level0 col1\" >MAE</th>        <th class=\"col_heading level0 col2\" >MSE</th>        <th class=\"col_heading level0 col3\" >RMSE</th>        <th class=\"col_heading level0 col4\" >R2</th>        <th class=\"col_heading level0 col5\" >RMSLE</th>        <th class=\"col_heading level0 col6\" >MAPE</th>        <th class=\"col_heading level0 col7\" >TT (Sec)</th>    </tr></thead><tbody>\n",
       "                <tr>\n",
       "                        <th id=\"T_6306679e_eb3c_11ea_9f6e_3c528213d836level0_row0\" class=\"row_heading level0 row0\" >0</th>\n",
       "                        <td id=\"T_6306679e_eb3c_11ea_9f6e_3c528213d836row0_col0\" class=\"data row0 col0\" >Extra Trees Regressor</td>\n",
       "                        <td id=\"T_6306679e_eb3c_11ea_9f6e_3c528213d836row0_col1\" class=\"data row0 col1\" >19.3968</td>\n",
       "                        <td id=\"T_6306679e_eb3c_11ea_9f6e_3c528213d836row0_col2\" class=\"data row0 col2\" >4707.7057</td>\n",
       "                        <td id=\"T_6306679e_eb3c_11ea_9f6e_3c528213d836row0_col3\" class=\"data row0 col3\" >63.3024</td>\n",
       "                        <td id=\"T_6306679e_eb3c_11ea_9f6e_3c528213d836row0_col4\" class=\"data row0 col4\" >0.9977</td>\n",
       "                        <td id=\"T_6306679e_eb3c_11ea_9f6e_3c528213d836row0_col5\" class=\"data row0 col5\" >0.0358</td>\n",
       "                        <td id=\"T_6306679e_eb3c_11ea_9f6e_3c528213d836row0_col6\" class=\"data row0 col6\" >0.0181</td>\n",
       "                        <td id=\"T_6306679e_eb3c_11ea_9f6e_3c528213d836row0_col7\" class=\"data row0 col7\" >0.3607</td>\n",
       "            </tr>\n",
       "            <tr>\n",
       "                        <th id=\"T_6306679e_eb3c_11ea_9f6e_3c528213d836level0_row1\" class=\"row_heading level0 row1\" >1</th>\n",
       "                        <td id=\"T_6306679e_eb3c_11ea_9f6e_3c528213d836row1_col0\" class=\"data row1 col0\" >Extreme Gradient Boosting</td>\n",
       "                        <td id=\"T_6306679e_eb3c_11ea_9f6e_3c528213d836row1_col1\" class=\"data row1 col1\" >24.3127</td>\n",
       "                        <td id=\"T_6306679e_eb3c_11ea_9f6e_3c528213d836row1_col2\" class=\"data row1 col2\" >4763.7161</td>\n",
       "                        <td id=\"T_6306679e_eb3c_11ea_9f6e_3c528213d836row1_col3\" class=\"data row1 col3\" >65.7233</td>\n",
       "                        <td id=\"T_6306679e_eb3c_11ea_9f6e_3c528213d836row1_col4\" class=\"data row1 col4\" >0.9976</td>\n",
       "                        <td id=\"T_6306679e_eb3c_11ea_9f6e_3c528213d836row1_col5\" class=\"data row1 col5\" >0.0694</td>\n",
       "                        <td id=\"T_6306679e_eb3c_11ea_9f6e_3c528213d836row1_col6\" class=\"data row1 col6\" >0.0449</td>\n",
       "                        <td id=\"T_6306679e_eb3c_11ea_9f6e_3c528213d836row1_col7\" class=\"data row1 col7\" >0.3180</td>\n",
       "            </tr>\n",
       "            <tr>\n",
       "                        <th id=\"T_6306679e_eb3c_11ea_9f6e_3c528213d836level0_row2\" class=\"row_heading level0 row2\" >2</th>\n",
       "                        <td id=\"T_6306679e_eb3c_11ea_9f6e_3c528213d836row2_col0\" class=\"data row2 col0\" >Gradient Boosting Regressor</td>\n",
       "                        <td id=\"T_6306679e_eb3c_11ea_9f6e_3c528213d836row2_col1\" class=\"data row2 col1\" >30.8819</td>\n",
       "                        <td id=\"T_6306679e_eb3c_11ea_9f6e_3c528213d836row2_col2\" class=\"data row2 col2\" >5035.9613</td>\n",
       "                        <td id=\"T_6306679e_eb3c_11ea_9f6e_3c528213d836row2_col3\" class=\"data row2 col3\" >68.5854</td>\n",
       "                        <td id=\"T_6306679e_eb3c_11ea_9f6e_3c528213d836row2_col4\" class=\"data row2 col4\" >0.9975</td>\n",
       "                        <td id=\"T_6306679e_eb3c_11ea_9f6e_3c528213d836row2_col5\" class=\"data row2 col5\" >0.3142</td>\n",
       "                        <td id=\"T_6306679e_eb3c_11ea_9f6e_3c528213d836row2_col6\" class=\"data row2 col6\" >0.1924</td>\n",
       "                        <td id=\"T_6306679e_eb3c_11ea_9f6e_3c528213d836row2_col7\" class=\"data row2 col7\" >0.5623</td>\n",
       "            </tr>\n",
       "            <tr>\n",
       "                        <th id=\"T_6306679e_eb3c_11ea_9f6e_3c528213d836level0_row3\" class=\"row_heading level0 row3\" >3</th>\n",
       "                        <td id=\"T_6306679e_eb3c_11ea_9f6e_3c528213d836row3_col0\" class=\"data row3 col0\" >Random Forest</td>\n",
       "                        <td id=\"T_6306679e_eb3c_11ea_9f6e_3c528213d836row3_col1\" class=\"data row3 col1\" >28.1268</td>\n",
       "                        <td id=\"T_6306679e_eb3c_11ea_9f6e_3c528213d836row3_col2\" class=\"data row3 col2\" >8516.6541</td>\n",
       "                        <td id=\"T_6306679e_eb3c_11ea_9f6e_3c528213d836row3_col3\" class=\"data row3 col3\" >85.0344</td>\n",
       "                        <td id=\"T_6306679e_eb3c_11ea_9f6e_3c528213d836row3_col4\" class=\"data row3 col4\" >0.9958</td>\n",
       "                        <td id=\"T_6306679e_eb3c_11ea_9f6e_3c528213d836row3_col5\" class=\"data row3 col5\" >0.0472</td>\n",
       "                        <td id=\"T_6306679e_eb3c_11ea_9f6e_3c528213d836row3_col6\" class=\"data row3 col6\" >0.0284</td>\n",
       "                        <td id=\"T_6306679e_eb3c_11ea_9f6e_3c528213d836row3_col7\" class=\"data row3 col7\" >0.5928</td>\n",
       "            </tr>\n",
       "            <tr>\n",
       "                        <th id=\"T_6306679e_eb3c_11ea_9f6e_3c528213d836level0_row4\" class=\"row_heading level0 row4\" >4</th>\n",
       "                        <td id=\"T_6306679e_eb3c_11ea_9f6e_3c528213d836row4_col0\" class=\"data row4 col0\" >Least Angle Regression</td>\n",
       "                        <td id=\"T_6306679e_eb3c_11ea_9f6e_3c528213d836row4_col1\" class=\"data row4 col1\" >62.0064</td>\n",
       "                        <td id=\"T_6306679e_eb3c_11ea_9f6e_3c528213d836row4_col2\" class=\"data row4 col2\" >9805.4261</td>\n",
       "                        <td id=\"T_6306679e_eb3c_11ea_9f6e_3c528213d836row4_col3\" class=\"data row4 col3\" >98.2897</td>\n",
       "                        <td id=\"T_6306679e_eb3c_11ea_9f6e_3c528213d836row4_col4\" class=\"data row4 col4\" >0.9946</td>\n",
       "                        <td id=\"T_6306679e_eb3c_11ea_9f6e_3c528213d836row4_col5\" class=\"data row4 col5\" >0.7113</td>\n",
       "                        <td id=\"T_6306679e_eb3c_11ea_9f6e_3c528213d836row4_col6\" class=\"data row4 col6\" >2.0227</td>\n",
       "                        <td id=\"T_6306679e_eb3c_11ea_9f6e_3c528213d836row4_col7\" class=\"data row4 col7\" >0.0069</td>\n",
       "            </tr>\n",
       "            <tr>\n",
       "                        <th id=\"T_6306679e_eb3c_11ea_9f6e_3c528213d836level0_row5\" class=\"row_heading level0 row5\" >5</th>\n",
       "                        <td id=\"T_6306679e_eb3c_11ea_9f6e_3c528213d836row5_col0\" class=\"data row5 col0\" >Bayesian Ridge</td>\n",
       "                        <td id=\"T_6306679e_eb3c_11ea_9f6e_3c528213d836row5_col1\" class=\"data row5 col1\" >61.9978</td>\n",
       "                        <td id=\"T_6306679e_eb3c_11ea_9f6e_3c528213d836row5_col2\" class=\"data row5 col2\" >9805.6429</td>\n",
       "                        <td id=\"T_6306679e_eb3c_11ea_9f6e_3c528213d836row5_col3\" class=\"data row5 col3\" >98.2883</td>\n",
       "                        <td id=\"T_6306679e_eb3c_11ea_9f6e_3c528213d836row5_col4\" class=\"data row5 col4\" >0.9946</td>\n",
       "                        <td id=\"T_6306679e_eb3c_11ea_9f6e_3c528213d836row5_col5\" class=\"data row5 col5\" >0.7123</td>\n",
       "                        <td id=\"T_6306679e_eb3c_11ea_9f6e_3c528213d836row5_col6\" class=\"data row5 col6\" >2.0260</td>\n",
       "                        <td id=\"T_6306679e_eb3c_11ea_9f6e_3c528213d836row5_col7\" class=\"data row5 col7\" >0.0085</td>\n",
       "            </tr>\n",
       "            <tr>\n",
       "                        <th id=\"T_6306679e_eb3c_11ea_9f6e_3c528213d836level0_row6\" class=\"row_heading level0 row6\" >6</th>\n",
       "                        <td id=\"T_6306679e_eb3c_11ea_9f6e_3c528213d836row6_col0\" class=\"data row6 col0\" >Random Sample Consensus</td>\n",
       "                        <td id=\"T_6306679e_eb3c_11ea_9f6e_3c528213d836row6_col1\" class=\"data row6 col1\" >61.2688</td>\n",
       "                        <td id=\"T_6306679e_eb3c_11ea_9f6e_3c528213d836row6_col2\" class=\"data row6 col2\" >9785.1738</td>\n",
       "                        <td id=\"T_6306679e_eb3c_11ea_9f6e_3c528213d836row6_col3\" class=\"data row6 col3\" >98.1822</td>\n",
       "                        <td id=\"T_6306679e_eb3c_11ea_9f6e_3c528213d836row6_col4\" class=\"data row6 col4\" >0.9946</td>\n",
       "                        <td id=\"T_6306679e_eb3c_11ea_9f6e_3c528213d836row6_col5\" class=\"data row6 col5\" >0.6818</td>\n",
       "                        <td id=\"T_6306679e_eb3c_11ea_9f6e_3c528213d836row6_col6\" class=\"data row6 col6\" >1.8542</td>\n",
       "                        <td id=\"T_6306679e_eb3c_11ea_9f6e_3c528213d836row6_col7\" class=\"data row6 col7\" >0.1171</td>\n",
       "            </tr>\n",
       "            <tr>\n",
       "                        <th id=\"T_6306679e_eb3c_11ea_9f6e_3c528213d836level0_row7\" class=\"row_heading level0 row7\" >7</th>\n",
       "                        <td id=\"T_6306679e_eb3c_11ea_9f6e_3c528213d836row7_col0\" class=\"data row7 col0\" >Linear Regression</td>\n",
       "                        <td id=\"T_6306679e_eb3c_11ea_9f6e_3c528213d836row7_col1\" class=\"data row7 col1\" >62.0064</td>\n",
       "                        <td id=\"T_6306679e_eb3c_11ea_9f6e_3c528213d836row7_col2\" class=\"data row7 col2\" >9805.4261</td>\n",
       "                        <td id=\"T_6306679e_eb3c_11ea_9f6e_3c528213d836row7_col3\" class=\"data row7 col3\" >98.2897</td>\n",
       "                        <td id=\"T_6306679e_eb3c_11ea_9f6e_3c528213d836row7_col4\" class=\"data row7 col4\" >0.9946</td>\n",
       "                        <td id=\"T_6306679e_eb3c_11ea_9f6e_3c528213d836row7_col5\" class=\"data row7 col5\" >0.7113</td>\n",
       "                        <td id=\"T_6306679e_eb3c_11ea_9f6e_3c528213d836row7_col6\" class=\"data row7 col6\" >2.0227</td>\n",
       "                        <td id=\"T_6306679e_eb3c_11ea_9f6e_3c528213d836row7_col7\" class=\"data row7 col7\" >0.0062</td>\n",
       "            </tr>\n",
       "            <tr>\n",
       "                        <th id=\"T_6306679e_eb3c_11ea_9f6e_3c528213d836level0_row8\" class=\"row_heading level0 row8\" >8</th>\n",
       "                        <td id=\"T_6306679e_eb3c_11ea_9f6e_3c528213d836row8_col0\" class=\"data row8 col0\" >Ridge Regression</td>\n",
       "                        <td id=\"T_6306679e_eb3c_11ea_9f6e_3c528213d836row8_col1\" class=\"data row8 col1\" >62.0630</td>\n",
       "                        <td id=\"T_6306679e_eb3c_11ea_9f6e_3c528213d836row8_col2\" class=\"data row8 col2\" >10036.8302</td>\n",
       "                        <td id=\"T_6306679e_eb3c_11ea_9f6e_3c528213d836row8_col3\" class=\"data row8 col3\" >99.3141</td>\n",
       "                        <td id=\"T_6306679e_eb3c_11ea_9f6e_3c528213d836row8_col4\" class=\"data row8 col4\" >0.9945</td>\n",
       "                        <td id=\"T_6306679e_eb3c_11ea_9f6e_3c528213d836row8_col5\" class=\"data row8 col5\" >0.7476</td>\n",
       "                        <td id=\"T_6306679e_eb3c_11ea_9f6e_3c528213d836row8_col6\" class=\"data row8 col6\" >2.2076</td>\n",
       "                        <td id=\"T_6306679e_eb3c_11ea_9f6e_3c528213d836row8_col7\" class=\"data row8 col7\" >0.0078</td>\n",
       "            </tr>\n",
       "            <tr>\n",
       "                        <th id=\"T_6306679e_eb3c_11ea_9f6e_3c528213d836level0_row9\" class=\"row_heading level0 row9\" >9</th>\n",
       "                        <td id=\"T_6306679e_eb3c_11ea_9f6e_3c528213d836row9_col0\" class=\"data row9 col0\" >Huber Regressor</td>\n",
       "                        <td id=\"T_6306679e_eb3c_11ea_9f6e_3c528213d836row9_col1\" class=\"data row9 col1\" >59.6839</td>\n",
       "                        <td id=\"T_6306679e_eb3c_11ea_9f6e_3c528213d836row9_col2\" class=\"data row9 col2\" >10116.7198</td>\n",
       "                        <td id=\"T_6306679e_eb3c_11ea_9f6e_3c528213d836row9_col3\" class=\"data row9 col3\" >99.7319</td>\n",
       "                        <td id=\"T_6306679e_eb3c_11ea_9f6e_3c528213d836row9_col4\" class=\"data row9 col4\" >0.9945</td>\n",
       "                        <td id=\"T_6306679e_eb3c_11ea_9f6e_3c528213d836row9_col5\" class=\"data row9 col5\" >0.5874</td>\n",
       "                        <td id=\"T_6306679e_eb3c_11ea_9f6e_3c528213d836row9_col6\" class=\"data row9 col6\" >1.2760</td>\n",
       "                        <td id=\"T_6306679e_eb3c_11ea_9f6e_3c528213d836row9_col7\" class=\"data row9 col7\" >0.0474</td>\n",
       "            </tr>\n",
       "            <tr>\n",
       "                        <th id=\"T_6306679e_eb3c_11ea_9f6e_3c528213d836level0_row10\" class=\"row_heading level0 row10\" >10</th>\n",
       "                        <td id=\"T_6306679e_eb3c_11ea_9f6e_3c528213d836row10_col0\" class=\"data row10 col0\" >Decision Tree</td>\n",
       "                        <td id=\"T_6306679e_eb3c_11ea_9f6e_3c528213d836row10_col1\" class=\"data row10 col1\" >37.2993</td>\n",
       "                        <td id=\"T_6306679e_eb3c_11ea_9f6e_3c528213d836row10_col2\" class=\"data row10 col2\" >10943.0336</td>\n",
       "                        <td id=\"T_6306679e_eb3c_11ea_9f6e_3c528213d836row10_col3\" class=\"data row10 col3\" >97.4193</td>\n",
       "                        <td id=\"T_6306679e_eb3c_11ea_9f6e_3c528213d836row10_col4\" class=\"data row10 col4\" >0.9944</td>\n",
       "                        <td id=\"T_6306679e_eb3c_11ea_9f6e_3c528213d836row10_col5\" class=\"data row10 col5\" >0.0698</td>\n",
       "                        <td id=\"T_6306679e_eb3c_11ea_9f6e_3c528213d836row10_col6\" class=\"data row10 col6\" >0.0421</td>\n",
       "                        <td id=\"T_6306679e_eb3c_11ea_9f6e_3c528213d836row10_col7\" class=\"data row10 col7\" >0.0223</td>\n",
       "            </tr>\n",
       "            <tr>\n",
       "                        <th id=\"T_6306679e_eb3c_11ea_9f6e_3c528213d836level0_row11\" class=\"row_heading level0 row11\" >11</th>\n",
       "                        <td id=\"T_6306679e_eb3c_11ea_9f6e_3c528213d836row11_col0\" class=\"data row11 col0\" >Lasso Regression</td>\n",
       "                        <td id=\"T_6306679e_eb3c_11ea_9f6e_3c528213d836row11_col1\" class=\"data row11 col1\" >63.9761</td>\n",
       "                        <td id=\"T_6306679e_eb3c_11ea_9f6e_3c528213d836row11_col2\" class=\"data row11 col2\" >11026.6606</td>\n",
       "                        <td id=\"T_6306679e_eb3c_11ea_9f6e_3c528213d836row11_col3\" class=\"data row11 col3\" >104.0328</td>\n",
       "                        <td id=\"T_6306679e_eb3c_11ea_9f6e_3c528213d836row11_col4\" class=\"data row11 col4\" >0.9940</td>\n",
       "                        <td id=\"T_6306679e_eb3c_11ea_9f6e_3c528213d836row11_col5\" class=\"data row11 col5\" >0.7888</td>\n",
       "                        <td id=\"T_6306679e_eb3c_11ea_9f6e_3c528213d836row11_col6\" class=\"data row11 col6\" >2.4054</td>\n",
       "                        <td id=\"T_6306679e_eb3c_11ea_9f6e_3c528213d836row11_col7\" class=\"data row11 col7\" >0.0062</td>\n",
       "            </tr>\n",
       "            <tr>\n",
       "                        <th id=\"T_6306679e_eb3c_11ea_9f6e_3c528213d836level0_row12\" class=\"row_heading level0 row12\" >12</th>\n",
       "                        <td id=\"T_6306679e_eb3c_11ea_9f6e_3c528213d836row12_col0\" class=\"data row12 col0\" >Passive Aggressive Regressor</td>\n",
       "                        <td id=\"T_6306679e_eb3c_11ea_9f6e_3c528213d836row12_col1\" class=\"data row12 col1\" >62.8859</td>\n",
       "                        <td id=\"T_6306679e_eb3c_11ea_9f6e_3c528213d836row12_col2\" class=\"data row12 col2\" >11570.8491</td>\n",
       "                        <td id=\"T_6306679e_eb3c_11ea_9f6e_3c528213d836row12_col3\" class=\"data row12 col3\" >106.6241</td>\n",
       "                        <td id=\"T_6306679e_eb3c_11ea_9f6e_3c528213d836row12_col4\" class=\"data row12 col4\" >0.9937</td>\n",
       "                        <td id=\"T_6306679e_eb3c_11ea_9f6e_3c528213d836row12_col5\" class=\"data row12 col5\" >0.6343</td>\n",
       "                        <td id=\"T_6306679e_eb3c_11ea_9f6e_3c528213d836row12_col6\" class=\"data row12 col6\" >1.5912</td>\n",
       "                        <td id=\"T_6306679e_eb3c_11ea_9f6e_3c528213d836row12_col7\" class=\"data row12 col7\" >0.0216</td>\n",
       "            </tr>\n",
       "            <tr>\n",
       "                        <th id=\"T_6306679e_eb3c_11ea_9f6e_3c528213d836level0_row13\" class=\"row_heading level0 row13\" >13</th>\n",
       "                        <td id=\"T_6306679e_eb3c_11ea_9f6e_3c528213d836row13_col0\" class=\"data row13 col0\" >Orthogonal Matching Pursuit</td>\n",
       "                        <td id=\"T_6306679e_eb3c_11ea_9f6e_3c528213d836row13_col1\" class=\"data row13 col1\" >65.4672</td>\n",
       "                        <td id=\"T_6306679e_eb3c_11ea_9f6e_3c528213d836row13_col2\" class=\"data row13 col2\" >12840.8169</td>\n",
       "                        <td id=\"T_6306679e_eb3c_11ea_9f6e_3c528213d836row13_col3\" class=\"data row13 col3\" >112.3096</td>\n",
       "                        <td id=\"T_6306679e_eb3c_11ea_9f6e_3c528213d836row13_col4\" class=\"data row13 col4\" >0.9930</td>\n",
       "                        <td id=\"T_6306679e_eb3c_11ea_9f6e_3c528213d836row13_col5\" class=\"data row13 col5\" >0.3817</td>\n",
       "                        <td id=\"T_6306679e_eb3c_11ea_9f6e_3c528213d836row13_col6\" class=\"data row13 col6\" >0.4303</td>\n",
       "                        <td id=\"T_6306679e_eb3c_11ea_9f6e_3c528213d836row13_col7\" class=\"data row13 col7\" >0.0094</td>\n",
       "            </tr>\n",
       "            <tr>\n",
       "                        <th id=\"T_6306679e_eb3c_11ea_9f6e_3c528213d836level0_row14\" class=\"row_heading level0 row14\" >14</th>\n",
       "                        <td id=\"T_6306679e_eb3c_11ea_9f6e_3c528213d836row14_col0\" class=\"data row14 col0\" >TheilSen Regressor</td>\n",
       "                        <td id=\"T_6306679e_eb3c_11ea_9f6e_3c528213d836row14_col1\" class=\"data row14 col1\" >68.6587</td>\n",
       "                        <td id=\"T_6306679e_eb3c_11ea_9f6e_3c528213d836row14_col2\" class=\"data row14 col2\" >13415.1435</td>\n",
       "                        <td id=\"T_6306679e_eb3c_11ea_9f6e_3c528213d836row14_col3\" class=\"data row14 col3\" >114.6009</td>\n",
       "                        <td id=\"T_6306679e_eb3c_11ea_9f6e_3c528213d836row14_col4\" class=\"data row14 col4\" >0.9928</td>\n",
       "                        <td id=\"T_6306679e_eb3c_11ea_9f6e_3c528213d836row14_col5\" class=\"data row14 col5\" >0.9219</td>\n",
       "                        <td id=\"T_6306679e_eb3c_11ea_9f6e_3c528213d836row14_col6\" class=\"data row14 col6\" >4.2537</td>\n",
       "                        <td id=\"T_6306679e_eb3c_11ea_9f6e_3c528213d836row14_col7\" class=\"data row14 col7\" >1.3852</td>\n",
       "            </tr>\n",
       "            <tr>\n",
       "                        <th id=\"T_6306679e_eb3c_11ea_9f6e_3c528213d836level0_row15\" class=\"row_heading level0 row15\" >15</th>\n",
       "                        <td id=\"T_6306679e_eb3c_11ea_9f6e_3c528213d836row15_col0\" class=\"data row15 col0\" >CatBoost Regressor</td>\n",
       "                        <td id=\"T_6306679e_eb3c_11ea_9f6e_3c528213d836row15_col1\" class=\"data row15 col1\" >25.4768</td>\n",
       "                        <td id=\"T_6306679e_eb3c_11ea_9f6e_3c528213d836row15_col2\" class=\"data row15 col2\" >17326.8022</td>\n",
       "                        <td id=\"T_6306679e_eb3c_11ea_9f6e_3c528213d836row15_col3\" class=\"data row15 col3\" >114.1563</td>\n",
       "                        <td id=\"T_6306679e_eb3c_11ea_9f6e_3c528213d836row15_col4\" class=\"data row15 col4\" >0.9919</td>\n",
       "                        <td id=\"T_6306679e_eb3c_11ea_9f6e_3c528213d836row15_col5\" class=\"data row15 col5\" >0.1967</td>\n",
       "                        <td id=\"T_6306679e_eb3c_11ea_9f6e_3c528213d836row15_col6\" class=\"data row15 col6\" >0.1194</td>\n",
       "                        <td id=\"T_6306679e_eb3c_11ea_9f6e_3c528213d836row15_col7\" class=\"data row15 col7\" >3.0928</td>\n",
       "            </tr>\n",
       "            <tr>\n",
       "                        <th id=\"T_6306679e_eb3c_11ea_9f6e_3c528213d836level0_row16\" class=\"row_heading level0 row16\" >16</th>\n",
       "                        <td id=\"T_6306679e_eb3c_11ea_9f6e_3c528213d836row16_col0\" class=\"data row16 col0\" >Lasso Least Angle Regression</td>\n",
       "                        <td id=\"T_6306679e_eb3c_11ea_9f6e_3c528213d836row16_col1\" class=\"data row16 col1\" >78.1721</td>\n",
       "                        <td id=\"T_6306679e_eb3c_11ea_9f6e_3c528213d836row16_col2\" class=\"data row16 col2\" >15764.9106</td>\n",
       "                        <td id=\"T_6306679e_eb3c_11ea_9f6e_3c528213d836row16_col3\" class=\"data row16 col3\" >124.4469</td>\n",
       "                        <td id=\"T_6306679e_eb3c_11ea_9f6e_3c528213d836row16_col4\" class=\"data row16 col4\" >0.9914</td>\n",
       "                        <td id=\"T_6306679e_eb3c_11ea_9f6e_3c528213d836row16_col5\" class=\"data row16 col5\" >0.7045</td>\n",
       "                        <td id=\"T_6306679e_eb3c_11ea_9f6e_3c528213d836row16_col6\" class=\"data row16 col6\" >1.3467</td>\n",
       "                        <td id=\"T_6306679e_eb3c_11ea_9f6e_3c528213d836row16_col7\" class=\"data row16 col7\" >0.0022</td>\n",
       "            </tr>\n",
       "            <tr>\n",
       "                        <th id=\"T_6306679e_eb3c_11ea_9f6e_3c528213d836level0_row17\" class=\"row_heading level0 row17\" >17</th>\n",
       "                        <td id=\"T_6306679e_eb3c_11ea_9f6e_3c528213d836row17_col0\" class=\"data row17 col0\" >Light Gradient Boosting Machine</td>\n",
       "                        <td id=\"T_6306679e_eb3c_11ea_9f6e_3c528213d836row17_col1\" class=\"data row17 col1\" >31.4817</td>\n",
       "                        <td id=\"T_6306679e_eb3c_11ea_9f6e_3c528213d836row17_col2\" class=\"data row17 col2\" >27802.8793</td>\n",
       "                        <td id=\"T_6306679e_eb3c_11ea_9f6e_3c528213d836row17_col3\" class=\"data row17 col3\" >147.2986</td>\n",
       "                        <td id=\"T_6306679e_eb3c_11ea_9f6e_3c528213d836row17_col4\" class=\"data row17 col4\" >0.9871</td>\n",
       "                        <td id=\"T_6306679e_eb3c_11ea_9f6e_3c528213d836row17_col5\" class=\"data row17 col5\" >0.1362</td>\n",
       "                        <td id=\"T_6306679e_eb3c_11ea_9f6e_3c528213d836row17_col6\" class=\"data row17 col6\" >0.0723</td>\n",
       "                        <td id=\"T_6306679e_eb3c_11ea_9f6e_3c528213d836row17_col7\" class=\"data row17 col7\" >0.1917</td>\n",
       "            </tr>\n",
       "            <tr>\n",
       "                        <th id=\"T_6306679e_eb3c_11ea_9f6e_3c528213d836level0_row18\" class=\"row_heading level0 row18\" >18</th>\n",
       "                        <td id=\"T_6306679e_eb3c_11ea_9f6e_3c528213d836row18_col0\" class=\"data row18 col0\" >K Neighbors Regressor</td>\n",
       "                        <td id=\"T_6306679e_eb3c_11ea_9f6e_3c528213d836row18_col1\" class=\"data row18 col1\" >65.6873</td>\n",
       "                        <td id=\"T_6306679e_eb3c_11ea_9f6e_3c528213d836row18_col2\" class=\"data row18 col2\" >41068.5623</td>\n",
       "                        <td id=\"T_6306679e_eb3c_11ea_9f6e_3c528213d836row18_col3\" class=\"data row18 col3\" >188.4230</td>\n",
       "                        <td id=\"T_6306679e_eb3c_11ea_9f6e_3c528213d836row18_col4\" class=\"data row18 col4\" >0.9797</td>\n",
       "                        <td id=\"T_6306679e_eb3c_11ea_9f6e_3c528213d836row18_col5\" class=\"data row18 col5\" >0.4192</td>\n",
       "                        <td id=\"T_6306679e_eb3c_11ea_9f6e_3c528213d836row18_col6\" class=\"data row18 col6\" >0.3417</td>\n",
       "                        <td id=\"T_6306679e_eb3c_11ea_9f6e_3c528213d836row18_col7\" class=\"data row18 col7\" >0.0088</td>\n",
       "            </tr>\n",
       "            <tr>\n",
       "                        <th id=\"T_6306679e_eb3c_11ea_9f6e_3c528213d836level0_row19\" class=\"row_heading level0 row19\" >19</th>\n",
       "                        <td id=\"T_6306679e_eb3c_11ea_9f6e_3c528213d836row19_col0\" class=\"data row19 col0\" >AdaBoost Regressor</td>\n",
       "                        <td id=\"T_6306679e_eb3c_11ea_9f6e_3c528213d836row19_col1\" class=\"data row19 col1\" >172.7521</td>\n",
       "                        <td id=\"T_6306679e_eb3c_11ea_9f6e_3c528213d836row19_col2\" class=\"data row19 col2\" >47328.2386</td>\n",
       "                        <td id=\"T_6306679e_eb3c_11ea_9f6e_3c528213d836row19_col3\" class=\"data row19 col3\" >216.8082</td>\n",
       "                        <td id=\"T_6306679e_eb3c_11ea_9f6e_3c528213d836row19_col4\" class=\"data row19 col4\" >0.9731</td>\n",
       "                        <td id=\"T_6306679e_eb3c_11ea_9f6e_3c528213d836row19_col5\" class=\"data row19 col5\" >1.4067</td>\n",
       "                        <td id=\"T_6306679e_eb3c_11ea_9f6e_3c528213d836row19_col6\" class=\"data row19 col6\" >7.8219</td>\n",
       "                        <td id=\"T_6306679e_eb3c_11ea_9f6e_3c528213d836row19_col7\" class=\"data row19 col7\" >0.2203</td>\n",
       "            </tr>\n",
       "            <tr>\n",
       "                        <th id=\"T_6306679e_eb3c_11ea_9f6e_3c528213d836level0_row20\" class=\"row_heading level0 row20\" >20</th>\n",
       "                        <td id=\"T_6306679e_eb3c_11ea_9f6e_3c528213d836row20_col0\" class=\"data row20 col0\" >Elastic Net</td>\n",
       "                        <td id=\"T_6306679e_eb3c_11ea_9f6e_3c528213d836row20_col1\" class=\"data row20 col1\" >200.5162</td>\n",
       "                        <td id=\"T_6306679e_eb3c_11ea_9f6e_3c528213d836row20_col2\" class=\"data row20 col2\" >100331.0199</td>\n",
       "                        <td id=\"T_6306679e_eb3c_11ea_9f6e_3c528213d836row20_col3\" class=\"data row20 col3\" >310.0778</td>\n",
       "                        <td id=\"T_6306679e_eb3c_11ea_9f6e_3c528213d836row20_col4\" class=\"data row20 col4\" >0.9462</td>\n",
       "                        <td id=\"T_6306679e_eb3c_11ea_9f6e_3c528213d836row20_col5\" class=\"data row20 col5\" >1.1581</td>\n",
       "                        <td id=\"T_6306679e_eb3c_11ea_9f6e_3c528213d836row20_col6\" class=\"data row20 col6\" >3.2747</td>\n",
       "                        <td id=\"T_6306679e_eb3c_11ea_9f6e_3c528213d836row20_col7\" class=\"data row20 col7\" >0.0022</td>\n",
       "            </tr>\n",
       "            <tr>\n",
       "                        <th id=\"T_6306679e_eb3c_11ea_9f6e_3c528213d836level0_row21\" class=\"row_heading level0 row21\" >21</th>\n",
       "                        <td id=\"T_6306679e_eb3c_11ea_9f6e_3c528213d836row21_col0\" class=\"data row21 col0\" >Support Vector Machine</td>\n",
       "                        <td id=\"T_6306679e_eb3c_11ea_9f6e_3c528213d836row21_col1\" class=\"data row21 col1\" >638.7928</td>\n",
       "                        <td id=\"T_6306679e_eb3c_11ea_9f6e_3c528213d836row21_col2\" class=\"data row21 col2\" >1793221.7703</td>\n",
       "                        <td id=\"T_6306679e_eb3c_11ea_9f6e_3c528213d836row21_col3\" class=\"data row21 col3\" >1322.3771</td>\n",
       "                        <td id=\"T_6306679e_eb3c_11ea_9f6e_3c528213d836row21_col4\" class=\"data row21 col4\" >0.0684</td>\n",
       "                        <td id=\"T_6306679e_eb3c_11ea_9f6e_3c528213d836row21_col5\" class=\"data row21 col5\" >1.5893</td>\n",
       "                        <td id=\"T_6306679e_eb3c_11ea_9f6e_3c528213d836row21_col6\" class=\"data row21 col6\" >9.8186</td>\n",
       "                        <td id=\"T_6306679e_eb3c_11ea_9f6e_3c528213d836row21_col7\" class=\"data row21 col7\" >0.3739</td>\n",
       "            </tr>\n",
       "    </tbody></table>"
      ],
      "text/plain": [
       "<pandas.io.formats.style.Styler at 0x1824ef79850>"
      ]
     },
     "metadata": {},
     "output_type": "display_data"
    },
    {
     "data": {
      "text/plain": [
       "ExtraTreesRegressor(bootstrap=False, ccp_alpha=0.0, criterion='mse',\n",
       "                    max_depth=None, max_features='auto', max_leaf_nodes=None,\n",
       "                    max_samples=None, min_impurity_decrease=0.0,\n",
       "                    min_impurity_split=None, min_samples_leaf=1,\n",
       "                    min_samples_split=2, min_weight_fraction_leaf=0.0,\n",
       "                    n_estimators=100, n_jobs=-1, oob_score=False,\n",
       "                    random_state=0, verbose=0, warm_start=False)"
      ]
     },
     "execution_count": 21,
     "metadata": {},
     "output_type": "execute_result"
    }
   ],
   "source": [
    "compare_models()"
   ]
  },
  {
   "cell_type": "markdown",
   "metadata": {},
   "source": [
    "### Extra Trees Regressor"
   ]
  },
  {
   "cell_type": "code",
   "execution_count": 22,
   "metadata": {},
   "outputs": [],
   "source": [
    "et = ExtraTreesRegressor(random_state=0)"
   ]
  },
  {
   "cell_type": "code",
   "execution_count": 23,
   "metadata": {},
   "outputs": [
    {
     "data": {
      "text/plain": [
       "ExtraTreesRegressor(bootstrap=False, ccp_alpha=0.0, criterion='mse',\n",
       "                    max_depth=None, max_features='auto', max_leaf_nodes=None,\n",
       "                    max_samples=None, min_impurity_decrease=0.0,\n",
       "                    min_impurity_split=None, min_samples_leaf=1,\n",
       "                    min_samples_split=2, min_weight_fraction_leaf=0.0,\n",
       "                    n_estimators=100, n_jobs=None, oob_score=False,\n",
       "                    random_state=0, verbose=0, warm_start=False)"
      ]
     },
     "execution_count": 23,
     "metadata": {},
     "output_type": "execute_result"
    }
   ],
   "source": [
    "et.fit(X_train_scaled,y_train)"
   ]
  },
  {
   "cell_type": "code",
   "execution_count": 24,
   "metadata": {},
   "outputs": [],
   "source": [
    "et_pred = et.predict(X_test_scaled)"
   ]
  },
  {
   "cell_type": "code",
   "execution_count": 25,
   "metadata": {},
   "outputs": [
    {
     "data": {
      "text/plain": [
       "array([  29.14,  236.04,   15.  ,  104.74,  398.3 ,  358.4 ,  235.5 ,\n",
       "       1446.32,  477.12,  762.01])"
      ]
     },
     "execution_count": 25,
     "metadata": {},
     "output_type": "execute_result"
    }
   ],
   "source": [
    "et_pred[:10]"
   ]
  },
  {
   "cell_type": "code",
   "execution_count": 26,
   "metadata": {},
   "outputs": [
    {
     "data": {
      "text/plain": [
       "3186.2744233415247"
      ]
     },
     "execution_count": 26,
     "metadata": {},
     "output_type": "execute_result"
    }
   ],
   "source": [
    "mse = mean_squared_error(y_test,et_pred)\n",
    "mse"
   ]
  },
  {
   "cell_type": "code",
   "execution_count": 27,
   "metadata": {},
   "outputs": [
    {
     "data": {
      "text/plain": [
       "56.44709402034373"
      ]
     },
     "execution_count": 27,
     "metadata": {},
     "output_type": "execute_result"
    }
   ],
   "source": [
    "rmse = np.sqrt(mse)\n",
    "rmse"
   ]
  },
  {
   "cell_type": "code",
   "execution_count": 28,
   "metadata": {},
   "outputs": [
    {
     "data": {
      "text/plain": [
       "0.9983434697931635"
      ]
     },
     "execution_count": 28,
     "metadata": {},
     "output_type": "execute_result"
    }
   ],
   "source": [
    "r2score = r2_score(y_test,et_pred)\n",
    "r2score"
   ]
  },
  {
   "cell_type": "code",
   "execution_count": 29,
   "metadata": {},
   "outputs": [
    {
     "data": {
      "image/png": "[encoded data removed]",
      "text/plain": [
       "<Figure size 720x576 with 1 Axes>"
      ]
     },
     "metadata": {},
     "output_type": "display_data"
    }
   ],
   "source": [
    "fig, ax = plt.subplots(figsize=(10,8))\n",
    "sns.regplot(x=y_test, y=et_pred, ax=ax)\n",
    "plt.title(\"Plot to compare actual vs predicted\")\n",
    "plt.ylabel(\"Predicted\")\n",
    "plt.xlabel(\"Actual\")\n",
    "plt.show()"
   ]
  },
  {
   "cell_type": "code",
   "execution_count": null,
   "metadata": {},
   "outputs": [],
   "source": []
  },
  {
   "cell_type": "markdown",
   "metadata": {},
   "source": [
    "### Using XGBoost"
   ]
  },
  {
   "cell_type": "code",
   "execution_count": 30,
   "metadata": {},
   "outputs": [],
   "source": [
    "xgbmodel = XGBRegressor(random_state=0, n_estimators=100, objective='reg:squarederror')"
   ]
  },
  {
   "cell_type": "code",
   "execution_count": 31,
   "metadata": {},
   "outputs": [
    {
     "name": "stdout",
     "output_type": "stream",
     "text": [
      "[0]\tvalidation_0-rmse:1181.39246\n",
      "Will train until validation_0-rmse hasn't improved in 10 rounds.\n",
      "[1]\tvalidation_0-rmse:863.08588\n",
      "[2]\tvalidation_0-rmse:644.57874\n",
      "[3]\tvalidation_0-rmse:485.60269\n",
      "[4]\tvalidation_0-rmse:373.12955\n",
      "[5]\tvalidation_0-rmse:288.04297\n",
      "[6]\tvalidation_0-rmse:231.50661\n",
      "[7]\tvalidation_0-rmse:186.68718\n",
      "[8]\tvalidation_0-rmse:154.55756\n",
      "[9]\tvalidation_0-rmse:131.36688\n",
      "[10]\tvalidation_0-rmse:113.58038\n",
      "[11]\tvalidation_0-rmse:100.07642\n",
      "[12]\tvalidation_0-rmse:90.48927\n",
      "[13]\tvalidation_0-rmse:83.20284\n",
      "[14]\tvalidation_0-rmse:77.30017\n",
      "[15]\tvalidation_0-rmse:72.70174\n",
      "[16]\tvalidation_0-rmse:69.10767\n",
      "[17]\tvalidation_0-rmse:66.90966\n",
      "[18]\tvalidation_0-rmse:65.34459\n",
      "[19]\tvalidation_0-rmse:64.24992\n",
      "[20]\tvalidation_0-rmse:62.72107\n",
      "[21]\tvalidation_0-rmse:61.60207\n",
      "[22]\tvalidation_0-rmse:60.84928\n",
      "[23]\tvalidation_0-rmse:60.12308\n",
      "[24]\tvalidation_0-rmse:59.51631\n",
      "[25]\tvalidation_0-rmse:59.01441\n",
      "[26]\tvalidation_0-rmse:58.92400\n",
      "[27]\tvalidation_0-rmse:58.79658\n",
      "[28]\tvalidation_0-rmse:58.64072\n",
      "[29]\tvalidation_0-rmse:58.32588\n",
      "[30]\tvalidation_0-rmse:58.15690\n",
      "[31]\tvalidation_0-rmse:58.20413\n",
      "[32]\tvalidation_0-rmse:58.00186\n",
      "[33]\tvalidation_0-rmse:57.72407\n",
      "[34]\tvalidation_0-rmse:57.60518\n",
      "[35]\tvalidation_0-rmse:57.40562\n",
      "[36]\tvalidation_0-rmse:57.27302\n",
      "[37]\tvalidation_0-rmse:57.19412\n",
      "[38]\tvalidation_0-rmse:57.00849\n",
      "[39]\tvalidation_0-rmse:57.02810\n",
      "[40]\tvalidation_0-rmse:57.05257\n",
      "[41]\tvalidation_0-rmse:56.93721\n",
      "[42]\tvalidation_0-rmse:56.89073\n",
      "[43]\tvalidation_0-rmse:56.82069\n",
      "[44]\tvalidation_0-rmse:56.80595\n",
      "[45]\tvalidation_0-rmse:56.77687\n",
      "[46]\tvalidation_0-rmse:56.74809\n",
      "[47]\tvalidation_0-rmse:56.71380\n",
      "[48]\tvalidation_0-rmse:56.62627\n",
      "[49]\tvalidation_0-rmse:56.60245\n",
      "[50]\tvalidation_0-rmse:56.59307\n",
      "[51]\tvalidation_0-rmse:56.55022\n",
      "[52]\tvalidation_0-rmse:56.49791\n",
      "[53]\tvalidation_0-rmse:56.48314\n",
      "[54]\tvalidation_0-rmse:56.47374\n",
      "[55]\tvalidation_0-rmse:56.41586\n",
      "[56]\tvalidation_0-rmse:56.39872\n",
      "[57]\tvalidation_0-rmse:56.37898\n",
      "[58]\tvalidation_0-rmse:56.27263\n",
      "[59]\tvalidation_0-rmse:56.25868\n",
      "[60]\tvalidation_0-rmse:56.31200\n",
      "[61]\tvalidation_0-rmse:56.29270\n",
      "[62]\tvalidation_0-rmse:56.31762\n",
      "[63]\tvalidation_0-rmse:56.24757\n",
      "[64]\tvalidation_0-rmse:56.19143\n",
      "[65]\tvalidation_0-rmse:56.16163\n",
      "[66]\tvalidation_0-rmse:56.17142\n",
      "[67]\tvalidation_0-rmse:56.13153\n",
      "[68]\tvalidation_0-rmse:56.11789\n",
      "[69]\tvalidation_0-rmse:56.12233\n",
      "[70]\tvalidation_0-rmse:56.11487\n",
      "[71]\tvalidation_0-rmse:56.11849\n",
      "[72]\tvalidation_0-rmse:56.15482\n",
      "[73]\tvalidation_0-rmse:56.20079\n",
      "[74]\tvalidation_0-rmse:56.19432\n",
      "[75]\tvalidation_0-rmse:56.17087\n",
      "[76]\tvalidation_0-rmse:56.17446\n",
      "[77]\tvalidation_0-rmse:56.16534\n",
      "[78]\tvalidation_0-rmse:56.14333\n",
      "[79]\tvalidation_0-rmse:56.13933\n",
      "[80]\tvalidation_0-rmse:56.13473\n",
      "Stopping. Best iteration:\n",
      "[70]\tvalidation_0-rmse:56.11487\n",
      "\n"
     ]
    },
    {
     "data": {
      "text/plain": [
       "XGBRegressor(base_score=0.5, booster='gbtree', colsample_bylevel=1,\n",
       "             colsample_bynode=1, colsample_bytree=1, gamma=0, gpu_id=-1,\n",
       "             importance_type='gain', interaction_constraints='',\n",
       "             learning_rate=0.300000012, max_delta_step=0, max_depth=6,\n",
       "             min_child_weight=1, missing=nan, monotone_constraints='()',\n",
       "             n_estimators=100, n_jobs=0, num_parallel_tree=1,\n",
       "             objective='reg:squarederror', random_state=0, reg_alpha=0,\n",
       "             reg_lambda=1, scale_pos_weight=1, subsample=1, tree_method='exact',\n",
       "             validate_parameters=1, verbosity=None)"
      ]
     },
     "execution_count": 31,
     "metadata": {},
     "output_type": "execute_result"
    }
   ],
   "source": [
    "xgbmodel.fit(X_train_scaled,y_train,eval_set=[(X_test_scaled,y_test)],eval_metric='rmse',early_stopping_rounds=10)"
   ]
  },
  {
   "cell_type": "code",
   "execution_count": 32,
   "metadata": {},
   "outputs": [],
   "source": [
    "xgb_pred = xgbmodel.predict(X_test_scaled)"
   ]
  },
  {
   "cell_type": "code",
   "execution_count": 33,
   "metadata": {},
   "outputs": [
    {
     "data": {
      "text/plain": [
       "array([  27.299465,  238.74037 ,   16.09712 ,  105.65489 ,  384.64874 ,\n",
       "        365.38757 ,  224.14505 , 1420.7906  ,  481.03943 ,  765.69037 ],\n",
       "      dtype=float32)"
      ]
     },
     "execution_count": 33,
     "metadata": {},
     "output_type": "execute_result"
    }
   ],
   "source": [
    "xgb_pred[:10]"
   ]
  },
  {
   "cell_type": "markdown",
   "metadata": {},
   "source": [
    "### Model Evaluation"
   ]
  },
  {
   "cell_type": "code",
   "execution_count": 34,
   "metadata": {},
   "outputs": [
    {
     "data": {
      "text/plain": [
       "3148.879749555135"
      ]
     },
     "execution_count": 34,
     "metadata": {},
     "output_type": "execute_result"
    }
   ],
   "source": [
    "mse = mean_squared_error(y_test,xgb_pred)\n",
    "mse"
   ]
  },
  {
   "cell_type": "code",
   "execution_count": 35,
   "metadata": {},
   "outputs": [
    {
     "data": {
      "text/plain": [
       "56.11487992997165"
      ]
     },
     "execution_count": 35,
     "metadata": {},
     "output_type": "execute_result"
    }
   ],
   "source": [
    "rmse = np.sqrt(mse)\n",
    "rmse"
   ]
  },
  {
   "cell_type": "code",
   "execution_count": 36,
   "metadata": {},
   "outputs": [
    {
     "data": {
      "text/plain": [
       "0.9983629111213329"
      ]
     },
     "execution_count": 36,
     "metadata": {},
     "output_type": "execute_result"
    }
   ],
   "source": [
    "r2score = r2_score(y_test,xgb_pred)\n",
    "r2score"
   ]
  },
  {
   "cell_type": "code",
   "execution_count": 37,
   "metadata": {},
   "outputs": [
    {
     "data": {
      "image/png": "[encoded data removed]",
      "text/plain": [
       "<Figure size 720x576 with 1 Axes>"
      ]
     },
     "metadata": {},
     "output_type": "display_data"
    }
   ],
   "source": [
    "fig, ax = plt.subplots(figsize=(10,8))\n",
    "sns.regplot(x=y_test, y=xgb_pred, ax=ax)\n",
    "plt.title(\"Plot to compare actual vs predicted\")\n",
    "plt.ylabel(\"Predicted\")\n",
    "plt.xlabel(\"Actual\")\n",
    "plt.show()"
   ]
  },
  {
   "cell_type": "code",
   "execution_count": null,
   "metadata": {},
   "outputs": [],
   "source": []
  },
  {
   "cell_type": "markdown",
   "metadata": {},
   "source": [
    "### Available importance_types = [‘weight’, ‘gain’, ‘cover’, ‘total_gain’, ‘total_cover’]"
   ]
  },
  {
   "cell_type": "code",
   "execution_count": 38,
   "metadata": {},
   "outputs": [
    {
     "data": {
      "text/plain": [
       "Index(['DaySum', 'QuantitySum', 'TotalPriceSum', 'CustomerCount', 'DayAvg', 'MonthAvg', 'QuantityAvg'], dtype='object')"
      ]
     },
     "execution_count": 38,
     "metadata": {},
     "output_type": "execute_result"
    }
   ],
   "source": [
    "X.columns"
   ]
  },
  {
   "cell_type": "code",
   "execution_count": 39,
   "metadata": {},
   "outputs": [],
   "source": [
    "xgbmodel.get_booster().feature_names = ['DaySum', 'QuantitySum', 'TotalPriceSum', 'CustomerCount', 'DayAvg', 'MonthAvg', 'QuantityAvg']"
   ]
  },
  {
   "cell_type": "code",
   "execution_count": 40,
   "metadata": {},
   "outputs": [
    {
     "data": {
      "image/png": "[encoded data removed]",
      "text/plain": [
       "<Figure size 1440x720 with 1 Axes>"
      ]
     },
     "metadata": {},
     "output_type": "display_data"
    }
   ],
   "source": [
    "fig, ax = plt.subplots(figsize=(20,10))\n",
    "xgb.plot_importance(xgbmodel.get_booster(),ax=ax)\n",
    "plt.show()"
   ]
  },
  {
   "cell_type": "markdown",
   "metadata": {},
   "source": [
    "### Cross-Validation"
   ]
  },
  {
   "cell_type": "code",
   "execution_count": 41,
   "metadata": {},
   "outputs": [
    {
     "name": "stderr",
     "output_type": "stream",
     "text": [
      "[Parallel(n_jobs=1)]: Using backend SequentialBackend with 1 concurrent workers.\n",
      "[Parallel(n_jobs=1)]: Done   5 out of   5 | elapsed:    1.4s finished\n"
     ]
    }
   ],
   "source": [
    "cv = cross_val_score(xgbmodel,X,y,cv=5,verbose=1,scoring='r2')"
   ]
  },
  {
   "cell_type": "code",
   "execution_count": 42,
   "metadata": {},
   "outputs": [
    {
     "data": {
      "text/plain": [
       "0.9977069585289394"
      ]
     },
     "execution_count": 42,
     "metadata": {},
     "output_type": "execute_result"
    }
   ],
   "source": [
    "cv.mean()"
   ]
  },
  {
   "cell_type": "markdown",
   "metadata": {},
   "source": [
    "### Model Tuning"
   ]
  },
  {
   "cell_type": "markdown",
   "metadata": {},
   "source": [
    "### Using RandomSearchCV"
   ]
  },
  {
   "cell_type": "code",
   "execution_count": 43,
   "metadata": {},
   "outputs": [],
   "source": [
    "model = XGBRegressor(random_state=0, n_estimators=100, objective='reg:squarederror')"
   ]
  },
  {
   "cell_type": "code",
   "execution_count": 44,
   "metadata": {},
   "outputs": [],
   "source": [
    "parameters = {'max_depth': np.arange(3,10,1),\n",
    "              'learning rate': np.arange(0.05,0.3,0.05),\n",
    "              'n_estimators':np.arange(100,1000,100),\n",
    "              'min_child_weight': np.arange(1,4,1),\n",
    "              'gamma':np.arange(0,50,2),\n",
    "              'subsample':np.arange(0.5,0.9,0.1),\n",
    "              'colsample_bytree':np.arange(0.5,0.9,0.1)\n",
    "             }"
   ]
  },
  {
   "cell_type": "code",
   "execution_count": 45,
   "metadata": {},
   "outputs": [],
   "source": [
    "randm = RandomizedSearchCV(estimator=model, param_distributions = parameters, cv = 5, n_iter = 15, \n",
    "                           n_jobs=-1, scoring='r2')"
   ]
  },
  {
   "cell_type": "code",
   "execution_count": 46,
   "metadata": {},
   "outputs": [
    {
     "data": {
      "text/plain": [
       "RandomizedSearchCV(cv=5, error_score=nan,\n",
       "                   estimator=XGBRegressor(base_score=None, booster=None,\n",
       "                                          colsample_bylevel=None,\n",
       "                                          colsample_bynode=None,\n",
       "                                          colsample_bytree=None, gamma=None,\n",
       "                                          gpu_id=None, importance_type='gain',\n",
       "                                          interaction_constraints=None,\n",
       "                                          learning_rate=None,\n",
       "                                          max_delta_step=None, max_depth=None,\n",
       "                                          min_child_weight=None, missing=nan,\n",
       "                                          monotone_constraints=None,\n",
       "                                          n_...\n",
       "                                        'gamma': array([ 0,  2,  4,  6,  8, 10, 12, 14, 16, 18, 20, 22, 24, 26, 28, 30, 32,\n",
       "       34, 36, 38, 40, 42, 44, 46, 48]),\n",
       "                                        'learning rate': array([0.05, 0.1 , 0.15, 0.2 , 0.25]),\n",
       "                                        'max_depth': array([3, 4, 5, 6, 7, 8, 9]),\n",
       "                                        'min_child_weight': array([1, 2, 3]),\n",
       "                                        'n_estimators': array([100, 200, 300, 400, 500, 600, 700, 800, 900]),\n",
       "                                        'subsample': array([0.5, 0.6, 0.7, 0.8])},\n",
       "                   pre_dispatch='2*n_jobs', random_state=None, refit=True,\n",
       "                   return_train_score=False, scoring='r2', verbose=0)"
      ]
     },
     "execution_count": 46,
     "metadata": {},
     "output_type": "execute_result"
    }
   ],
   "source": [
    "randm.fit(X_train_scaled, y_train)"
   ]
  },
  {
   "cell_type": "code",
   "execution_count": 47,
   "metadata": {},
   "outputs": [
    {
     "data": {
      "text/plain": [
       "XGBRegressor(base_score=0.5, booster='gbtree', colsample_bylevel=1,\n",
       "             colsample_bynode=1, colsample_bytree=0.7, gamma=34, gpu_id=-1,\n",
       "             importance_type='gain', interaction_constraints='',\n",
       "             learning rate=0.2, learning_rate=0.300000012, max_delta_step=0,\n",
       "             max_depth=4, min_child_weight=1, missing=nan,\n",
       "             monotone_constraints='()', n_estimators=500, n_jobs=0,\n",
       "             num_parallel_tree=1, objective='reg:squarederror', random_state=0,\n",
       "             reg_alpha=0, reg_lambda=1, scale_pos_weight=1, subsample=0.6,\n",
       "             tree_method='exact', validate_parameters=1, verbosity=None)"
      ]
     },
     "execution_count": 47,
     "metadata": {},
     "output_type": "execute_result"
    }
   ],
   "source": [
    "randm.best_estimator_"
   ]
  },
  {
   "cell_type": "code",
   "execution_count": 48,
   "metadata": {},
   "outputs": [
    {
     "data": {
      "text/plain": [
       "0.9964929755309481"
      ]
     },
     "execution_count": 48,
     "metadata": {},
     "output_type": "execute_result"
    }
   ],
   "source": [
    "randm.best_score_"
   ]
  },
  {
   "cell_type": "code",
   "execution_count": 49,
   "metadata": {},
   "outputs": [
    {
     "data": {
      "text/plain": [
       "{'subsample': 0.6,\n",
       " 'n_estimators': 500,\n",
       " 'min_child_weight': 1,\n",
       " 'max_depth': 4,\n",
       " 'learning rate': 0.2,\n",
       " 'gamma': 34,\n",
       " 'colsample_bytree': 0.7}"
      ]
     },
     "execution_count": 49,
     "metadata": {},
     "output_type": "execute_result"
    }
   ],
   "source": [
    "randm.best_params_"
   ]
  },
  {
   "cell_type": "markdown",
   "metadata": {},
   "source": [
    "### Articulate your findings in a summary report"
   ]
  },
  {
   "cell_type": "markdown",
   "metadata": {},
   "source": [
    "XGB Boost Regressor has slightly better than Extra Tree Regressor. We chose the simple model for the deployment"
   ]
  },
  {
   "cell_type": "code",
   "execution_count": null,
   "metadata": {},
   "outputs": [],
   "source": []
  }
 ],
 "metadata": {
  "kernelspec": {
   "display_name": "Python 3",
   "language": "python",
   "name": "python3"
  },
  "language_info": {
   "codemirror_mode": {
    "name": "ipython",
    "version": 3
   },
   "file_extension": ".py",
   "mimetype": "text/x-python",
   "name": "python",
   "nbconvert_exporter": "python",
   "pygments_lexer": "ipython3",
   "version": "3.8.3"
  }
 },
 "nbformat": 4,
 "nbformat_minor": 4
}
